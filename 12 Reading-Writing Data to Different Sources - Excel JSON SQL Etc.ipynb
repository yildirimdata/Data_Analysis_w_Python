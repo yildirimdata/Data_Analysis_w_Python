{
 "cells": [
  {
   "cell_type": "markdown",
   "id": "2d0924f9-03db-4bd1-a8cf-b5e68edc1878",
   "metadata": {},
   "source": [
    "# how to read and write CSV"
   ]
  },
  {
   "cell_type": "code",
   "execution_count": null,
   "id": "07f391ae-e9a3-46a7-84f7-aa43e3268962",
   "metadata": {},
   "outputs": [],
   "source": [
    "# to read:\n",
    "\n",
    "df = pd.read_csv(\"file_name.csv\")\n",
    "\n",
    "# to write and save it as a csv:\n",
    "\n",
    "new_df.to_csv(\"modified.csv\")\n",
    "\n",
    "# kaydedilen modified.csv comma separated oldugu icin icice,okumasi zor gorunecek. bunu tab ile ayrilmis\n",
    "# olarak kaydedebiliriz. separator parametresini de tab olarak ayarlamalıyız.\n",
    "\n",
    "new_df.to_csv(\"modified.tsv\", sep=\"\\t\")\n",
    "\n",
    "# tab ile separate edilmis bir csv dosyasını okumak icin \n",
    "\n",
    "df = pd.read_csv(\"modified.tsv\", sep=\"\\t\")"
   ]
  },
  {
   "cell_type": "markdown",
   "id": "1af44568-6027-4dfb-88cb-05229d830388",
   "metadata": {},
   "source": [
    "# how to read and write Excell"
   ]
  },
  {
   "cell_type": "code",
   "execution_count": null,
   "id": "83a36d96-7a89-4664-beef-fdbf38e279aa",
   "metadata": {},
   "outputs": [],
   "source": [
    "# Excelle write icin kurulu degilse omce excell paketleri kurmalıyız\n",
    "\n",
    "pip install xlwt openpxyl xlrd\n",
    "\n",
    "# bundan sonra excel olarak kaydedebiliriz\n",
    "\n",
    "new_df.to_excel(\"modified.xlsx\")\n",
    "\n",
    "# how to read it:\n",
    "\n",
    "create_a_df_from_excel_file = pd.read_excel(\"modified.xlsx\") \n",
    "# eger belli bir column direkt index olarak acilsin istiyorsak (ornegin respondentno columnu), index_col  parametresini\n",
    "# kullanırız. pd.read_excel(\"modified.xlsx\", index_col =\"respondentno\")\n",
    "\n"
   ]
  },
  {
   "cell_type": "markdown",
   "id": "4c60c7f3-1bee-43ba-a3ee-bc745e239f0a",
   "metadata": {},
   "source": [
    "# how to read and write JSON"
   ]
  },
  {
   "cell_type": "code",
   "execution_count": null,
   "id": "17b3eff1-cd02-4d6f-8343-ecc57b0d9dd7",
   "metadata": {},
   "outputs": [],
   "source": [
    "# how to write JSON\n",
    "\n",
    "save_my_df_as_JSON = df.to_JSON(\"modified.json\")\n",
    "# it will save it as a nested dict by default. a dict like JSON\n",
    "\n",
    "\n",
    "# how to read JSON\n",
    "\n",
    "read_my_JSON = pd.read_JSON(\"modified.json\")"
   ]
  },
  {
   "cell_type": "markdown",
   "id": "5073a92c-9a36-4c9f-af9b-911912adaad8",
   "metadata": {},
   "source": [
    "# how to read and write SQL"
   ]
  },
  {
   "cell_type": "code",
   "execution_count": null,
   "id": "72570d8d-a772-464b-87a7-d38c9b35c7a1",
   "metadata": {},
   "outputs": [],
   "source": [
    "# once eger yoksa: pip install SQLALchemy \n",
    "# and then pip install psycopg2-binary\n",
    "\n",
    "from sqlalchemy import create_engine\n",
    "import psycopg2\n",
    "\n",
    "engine=create_engine(\"postgresql:\\\\username:password@localhost:1433/name_of_database_inSQL\")\n",
    "# ama public notebookta kullanici edi ve passwordu exposure etmemek icin environment variable kullanmalıyız\n",
    "\n",
    "df_save_as_SQl.to_sql(\"sample_table\", engine)\n",
    "\n",
    "# calistirip degistirdikten sonra tekrar kaydetmek icin (efer aynı dosyanın ustune istersek):\n",
    "df_save_as_SQl.to_sql(\"sample_table\", engine, if_exists=\"replace\")  # replace yerine append de diyebilriiz ornegin\n",
    "\n",
    "# how to READ SQL\n",
    "\n",
    "sql_df = pd.read_sql(\"sample_table\", engine, index_col = \"any_column_we_want\")  # default index icin index_col hic yazma\n",
    "\n",
    "# sadece spesifik bir query okumak istersek\n",
    "sql_df = pd.read_sql_query(\"SELECT * FROM sample_table\", engine)"
   ]
  },
  {
   "cell_type": "markdown",
   "id": "18a3018f-73e9-44a8-b5cb-6c1a36483427",
   "metadata": {},
   "source": [
    "# URL ile okuma"
   ]
  },
  {
   "cell_type": "code",
   "execution_count": null,
   "id": "6ab4767c-2796-4a61-9c1f-013ba6741a87",
   "metadata": {},
   "outputs": [],
   "source": [
    "df = pd.read_csv(\"url\")\n",
    "# dosya json ise read_json veya read_excel ..."
   ]
  }
 ],
 "metadata": {
  "kernelspec": {
   "display_name": "Python 3 (ipykernel)",
   "language": "python",
   "name": "python3"
  },
  "language_info": {
   "codemirror_mode": {
    "name": "ipython",
    "version": 3
   },
   "file_extension": ".py",
   "mimetype": "text/x-python",
   "name": "python",
   "nbconvert_exporter": "python",
   "pygments_lexer": "ipython3",
   "version": "3.9.12"
  }
 },
 "nbformat": 4,
 "nbformat_minor": 5
}
