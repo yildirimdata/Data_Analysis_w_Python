{
 "cells": [
  {
   "cell_type": "markdown",
   "id": "8dadcc3f-1de0-4132-9cb5-51365ab59eeb",
   "metadata": {},
   "source": [
    "# PANDAS\n",
    "\n",
    "Pandas is a free software library written for the Python programming language **for data manipulation and analysis**. In particular, **it offers data structures and operations for manipulating numerical tables and time series**. Pandas is mainly used for machine learning in form of DataFrames. **Pandas allows importing data of various file formats such as csv, excel etc. And it provides various data manipulation operations such as groupby, join, merge, melt, concatenation as well as data cleaning features such as filling, replacing or imputing null values**.\n",
    "\n",
    "**It can perform five significant steps that are required for processing and analysis of data : load, manipulate, prepare, model, and analyze.**"
   ]
  },
  {
   "cell_type": "markdown",
   "id": "55d4d804-ba74-4dec-8ff5-4ed9d1dba4a7",
   "metadata": {},
   "source": [
    "# Series\n",
    "\n"
   ]
  },
  {
   "cell_type": "code",
   "execution_count": 1,
   "id": "7674725f-7893-42ea-b8d9-1e5437e2aa8b",
   "metadata": {},
   "outputs": [],
   "source": [
    "import pandas as pd\n",
    "import numpy as np"
   ]
  },
  {
   "cell_type": "markdown",
   "id": "66333845-fc6b-4def-b83f-ba77d9f27ccc",
   "metadata": {},
   "source": [
    "**Pandas series is a one-dimensional labeled array capable of holding data of any type** (integer, string, float, python objects, etc.). In order to fully understand DataFrames, you need to know the basics of series. You can think of the pandas series as **a column with labels** in an excel sheet. \n",
    "\n",
    "A Series is defined as a **one-dimensional array that is capable of storing various data types**. **The row labels of series are called the index**. By using a Series method, we can easily convert the list, tuple, and dictionary into series. A Series cannot contain multiple columns."
   ]
  },
  {
   "cell_type": "code",
   "execution_count": 3,
   "id": "372fabca-ec3e-4199-86d2-9f6815a63a69",
   "metadata": {},
   "outputs": [
    {
     "data": {
      "text/plain": [
       "0            1\n",
       "1            2\n",
       "2            3\n",
       "3         five\n",
       "4         True\n",
       "5    [1, 2, 3]\n",
       "6     {'a': 1}\n",
       "7            4\n",
       "8            5\n",
       "dtype: object"
      ]
     },
     "execution_count": 3,
     "metadata": {},
     "output_type": "execute_result"
    }
   ],
   "source": [
    "serie = pd.Series([1,2,3,\"five\", True, [1,2,3], {\"a\": 1},4,5])\n",
    "serie"
   ]
  },
  {
   "cell_type": "markdown",
   "id": "ca9670fb-0d24-4573-a72a-17a32265631e",
   "metadata": {},
   "source": [
    "In a series, **the axis labels are called indexes.** **Series can only contain a single list with an index, whereas the DataFrames can be made of more than one series.** \n",
    "\n",
    "**You can create a series by calling pandas. Series() . A list, numpy array, dict and scalar value can be turned into a pandas series.**\n",
    "\n",
    "**``pd.Series(data=None, index=None, dtype=None, name=None, copy=False, fastpath=False)``**\n",
    "\n",
    "Additional sources:\n",
    "\n",
    "[SOURCE01](https://pandas.pydata.org/docs/reference/api/pandas.Series.html), [SOURCE02](https://www.datasciencemadesimple.com/create-series-in-python-pandas/), \n",
    "[SOURCE03](https://www.cbsecsip.in/2020/08/pandas-data-structure-series.html), \n",
    "[SOURCE04](https://towardsdatascience.com/pandas-series-a-lightweight-intro-b7963a0d62a2), \n",
    "[SOURCE05](https://www.educba.com/pandas-series/), \n",
    "[SOURCE06](http://www.rebellionrider.com/python-pandas-series-in-detail-part-1/), \n",
    "[SOURCE06](https://www.javatpoint.com/python-pandas-series), &\n",
    "[SOURCE06](https://towardsdatascience.com/20-examples-to-master-pandas-series-bc4c68200324)<br>"
   ]
  },
  {
   "cell_type": "code",
   "execution_count": 6,
   "id": "a2c98f33-bb80-4479-9cd5-38978c9e3598",
   "metadata": {},
   "outputs": [
    {
     "name": "stdout",
     "output_type": "stream",
     "text": [
      "0    10\n",
      "1    20\n",
      "2    30\n",
      "dtype: int64\n",
      "0    1\n",
      "1    2\n",
      "2    3\n",
      "dtype: int64\n",
      "\n",
      "a    10\n",
      "b    20\n",
      "c    30\n",
      "dtype: int64\n",
      "----------------------------\n",
      "1    10\n",
      "2    20\n",
      "3    30\n",
      "dtype: int64\n",
      "\n",
      "0    10\n",
      "1    20\n",
      "2    30\n",
      "dtype: int64\n",
      "\n",
      "dictkey1    10\n",
      "dictkey2    20\n",
      "dictkey3    30\n",
      "dtype: int64\n"
     ]
    }
   ],
   "source": [
    "my_list = [10, 20, 30]\n",
    "labels = ['a', 'b', 'c']\n",
    "arr = np.array([10, 20, 30])\n",
    "d = {'dictkey1': 10, 'dictkey2': 20, 'dictkey3': 30}\n",
    "\n",
    "# 1 turn a list into series\n",
    "\n",
    "print(pd.Series(my_list))  \n",
    "print(pd.Series([1,2,3]))\n",
    "print()\n",
    "# 2 array ile serie olustırma\n",
    "print(pd.Series(data = arr, index = labels))  # index yazmsak default 0'dan itibaren sıralar\n",
    "print(\"----------------------------\")\n",
    "print(pd.Series(data = arr, index = [1,2,3]))  # listeye eleman sayısından fazla value girersek error\n",
    "print()\n",
    "print(pd.Series(data=arr, index = np.arange(3)))\n",
    "print()\n",
    "# 3 dict ile serie olusturma\n",
    "print(pd.Series(d))  # keyler index valuelar value olur"
   ]
  },
  {
   "cell_type": "code",
   "execution_count": 250,
   "id": "880e99f5-526d-40c2-b1ec-2a1f985bb621",
   "metadata": {},
   "outputs": [
    {
     "data": {
      "text/plain": [
       "q            NaN\n",
       "dictkey2    20.0\n",
       "y            NaN\n",
       "p            NaN\n",
       "dtype: float64"
      ]
     },
     "execution_count": 250,
     "metadata": {},
     "output_type": "execute_result"
    }
   ],
   "source": [
    "# dict indexlerini kendimiz vermek istersej\n",
    "\n",
    "pd.Series(data=d, index = [\"q\", \"dictkey2\", \"y\", \"p\"])  # dictte olan keyi getirir, diğerleri benim datamı \n",
    "# olusturan dict'te olmadigi icin onları getiremedi ve NaN (not a (valid) number) koydu"
   ]
  },
  {
   "cell_type": "code",
   "execution_count": 251,
   "id": "39b26e9f-f938-4abc-a98b-c0b57007b076",
   "metadata": {},
   "outputs": [],
   "source": [
    "# dict ile series oluştururken datamızdakinden daha uzun index verebiliyormusuz demek ki yukarda oldugu gibi. "
   ]
  },
  {
   "cell_type": "markdown",
   "id": "6f08c55f-c9f9-4377-884b-7cf5d7c4ffbf",
   "metadata": {},
   "source": [
    "**Scalars** are single values representing one unit of data, such as an integer or bool, as opposed to data structures like a list or tuple, which are composed of scalars."
   ]
  },
  {
   "cell_type": "code",
   "execution_count": 259,
   "id": "94f616a4-b516-406f-a887-f03518fc5a39",
   "metadata": {},
   "outputs": [
    {
     "data": {
      "text/plain": [
       "0    GSaray\n",
       "1    GSaray\n",
       "2    GSaray\n",
       "dtype: object"
      ]
     },
     "execution_count": 259,
     "metadata": {},
     "output_type": "execute_result"
    }
   ],
   "source": [
    "# 4. scalar degerle serie olusturma\n",
    "pd.Series(data = \"GSaray\", index = range(3)) "
   ]
  },
  {
   "cell_type": "code",
   "execution_count": 388,
   "id": "3eb61412-9c62-444a-951a-873a8106e651",
   "metadata": {},
   "outputs": [
    {
     "data": {
      "text/plain": [
       "a    10\n",
       "b    10\n",
       "c    10\n",
       "Name: Serie of 10, dtype: int64"
      ]
     },
     "execution_count": 388,
     "metadata": {},
     "output_type": "execute_result"
    }
   ],
   "source": [
    "pd.Series(data = 10, index = [\"a\", \"b\", \"c\"], name = \"Serie of 10\") "
   ]
  },
  {
   "cell_type": "code",
   "execution_count": 305,
   "id": "1a344ccf-38c2-4855-aba0-6884e0f5b9ec",
   "metadata": {},
   "outputs": [
    {
     "data": {
      "text/plain": [
       "{1, 2, 3, 4, 5}"
      ]
     },
     "execution_count": 305,
     "metadata": {},
     "output_type": "execute_result"
    }
   ],
   "source": [
    "# seriler set, dict gibi fonksiyonlar da alabilir\n",
    "\n",
    "ser = pd.Series([set, list,print, dict])\n",
    "ser[0]([1,2,3,4,5])\n",
    "\n",
    "# büyü projelerde fonksyionlarla dolu bir seri olusturup daha sonra tek tek elemanlarını veya \n",
    "# loopla teker teker hepsini kullanabiliriz. serinin verinin tipini koruma ozelliginden \n",
    "# faydalanmis oluruz böylece."
   ]
  },
  {
   "cell_type": "code",
   "execution_count": 307,
   "id": "45447922-7d5c-424c-ad2a-f1b67fb3639e",
   "metadata": {},
   "outputs": [
    {
     "name": "stdout",
     "output_type": "stream",
     "text": [
      "pandas serileri\n"
     ]
    }
   ],
   "source": [
    "ser[2](\"pandas serileri\")  # [2] print fonksiyonu"
   ]
  },
  {
   "cell_type": "code",
   "execution_count": 309,
   "id": "5edeea65-9da5-47a8-8149-bee020550fdb",
   "metadata": {},
   "outputs": [
    {
     "name": "stdout",
     "output_type": "stream",
     "text": [
      "15\n",
      "5\n"
     ]
    }
   ],
   "source": [
    "func = pd.Series([sum, print, len])\n",
    "print(func[0]([1,2,3,4,5]))  # sum func\n",
    "print(func[2]([1,2,3,4,5]))  # len func"
   ]
  },
  {
   "cell_type": "code",
   "execution_count": null,
   "id": "1d601387-618c-48a7-9306-b1317c4eba28",
   "metadata": {},
   "outputs": [],
   "source": []
  },
  {
   "cell_type": "markdown",
   "id": "a634cfe8-ec3f-48a1-a91b-49c67644a0c5",
   "metadata": {},
   "source": [
    "**SOME COMMON ATTRIBUTES** [Official Pandas API Document](https://pandas.pydata.org/docs/reference/api/pandas.Series.html)<br>\n",
    "\n",
    "**Series.dtype**\tIt returns the data type of the data.<br>\n",
    "**Series.shape**\tIt returns a tuple of shape of the data.<br>\n",
    "**Series.size**\t    It returns the size of the data.<br>\n",
    "**Series.ndim**\t    It returns the number of dimensions in the data.<br>\n",
    "**Series.index**\tDefines the index of the Series.<br>\n",
    "**Series.keys**  \tReturn alias for index.<br>\n",
    "**Series.values**   Returns Series as ndarray or ndarray-like depending on the dtype.<br>\n",
    "**Series.items**\tLazily iterate over (index, value) tuples.<br>\n",
    "**Series.head**   \tReturn the first n rows.<br>\n",
    "**Series.tail** \tReturn the last n rows.<br>\n",
    "**Series.sample**   Return a random sample of items from an axis of object.<br>\n",
    "**Series.sort_index**  Sort Series by index labels.<br>\n",
    "**Series.sort_values**  Sort by the values.<br>\n",
    "**Series.isin**     Whether elements in Series are contained in values.<br>"
   ]
  },
  {
   "cell_type": "code",
   "execution_count": 330,
   "id": "b76c3726-a29d-4547-aee2-4aba236dc2e6",
   "metadata": {},
   "outputs": [
    {
     "name": "stdout",
     "output_type": "stream",
     "text": [
      "int64\n",
      "(7,)\n",
      "7\n",
      "1\n",
      "\n",
      "RangeIndex(start=0, stop=7, step=1)\n",
      "\n",
      "[0, 1, 2, 3, 4, 5, 6]\n",
      "-------------------\n",
      "<bound method Series.keys of 0    54\n",
      "1    71\n",
      "2    72\n",
      "3    80\n",
      "4    93\n",
      "5    64\n",
      "6    63\n",
      "dtype: int64>\n",
      "Values [54 71 72 80 93 64 63]\n",
      "<bound method Series.items of 0    54\n",
      "1    71\n",
      "2    72\n",
      "3    80\n",
      "4    93\n",
      "5    64\n",
      "6    63\n",
      "dtype: int64>\n",
      "-------------------\n",
      "-------------------\n",
      "index : 0, Value : 54\n",
      "index : 1, Value : 71\n",
      "index : 2, Value : 72\n",
      "index : 3, Value : 80\n",
      "index : 4, Value : 93\n",
      "index : 5, Value : 64\n",
      "index : 6, Value : 63\n"
     ]
    }
   ],
   "source": [
    "ser = pd.Series(np.random.randint(0,100,7))\n",
    "\n",
    "print(ser.dtype)\n",
    "print(ser.shape)\n",
    "print(ser.size)\n",
    "print(ser.ndim)\n",
    "print()\n",
    "print(ser.index)\n",
    "print()\n",
    "print(list(ser.index))\n",
    "print(\"-------------------\")\n",
    "print(ser.keys)  # keys ile de indeksleri cekeblirilz\n",
    "# .keys: print(value, ..., sep=' ', end='\\n', file=sys.stdout, flush=False)\n",
    "# Prints the values to a stream, or to sys.stdout by default.\n",
    "\n",
    "print(\"Values\", ser.values)\n",
    "print(ser.items)  # index value pair olarak gelir\n",
    "print(\"-------------------\")\n",
    "print(\"-------------------\")\n",
    "for index,value in ser.items():\n",
    "    print(f\"index : {index}, Value : {value}\")"
   ]
  },
  {
   "cell_type": "code",
   "execution_count": 324,
   "id": "0c0c2c96-33c7-45be-b1cb-b50f5eb8717c",
   "metadata": {},
   "outputs": [
    {
     "name": "stdout",
     "output_type": "stream",
     "text": [
      "terry      121\n",
      "micheal    200\n",
      "orion      150\n",
      "jason       99\n",
      "dtype: int64\n",
      "Index(['terry', 'micheal', 'orion', 'jason'], dtype='object')\n"
     ]
    }
   ],
   "source": [
    "ser_label = pd.Series(data = [121, 200, 150, 99], index = [\"terry\", \"micheal\", \"orion\", \"jason\"])\n",
    "print(ser_label)\n",
    "print(ser_label.index)  # label olduğunda acik acik gosterir, list,* veya for döngüye sokmaya gerek yok"
   ]
  },
  {
   "cell_type": "code",
   "execution_count": 394,
   "id": "868ed8ae-75db-4e05-8726-d1810c6095e0",
   "metadata": {},
   "outputs": [
    {
     "data": {
      "text/plain": [
       "0     G\n",
       "1     a\n",
       "2     l\n",
       "3     a\n",
       "4     t\n",
       "5     a\n",
       "6     s\n",
       "7     a\n",
       "8     r\n",
       "9     a\n",
       "10    y\n",
       "dtype: object"
      ]
     },
     "execution_count": 394,
     "metadata": {},
     "output_type": "execute_result"
    }
   ],
   "source": [
    "ser = pd.Series(list(\"Galatasaray\"))\n",
    "ser"
   ]
  },
  {
   "cell_type": "code",
   "execution_count": 390,
   "id": "04900b3d-cea6-466d-9347-8b37d16bfff5",
   "metadata": {},
   "outputs": [
    {
     "data": {
      "text/plain": [
       "<bound method Series.items of 0     G\n",
       "1     a\n",
       "2     l\n",
       "3     a\n",
       "4     t\n",
       "5     a\n",
       "6     s\n",
       "7     a\n",
       "8     r\n",
       "9     a\n",
       "10    y\n",
       "dtype: object>"
      ]
     },
     "execution_count": 390,
     "metadata": {},
     "output_type": "execute_result"
    }
   ],
   "source": [
    "ser.items"
   ]
  },
  {
   "cell_type": "code",
   "execution_count": 391,
   "id": "7b2577e5-494f-44f0-bac2-6f33c36b6032",
   "metadata": {},
   "outputs": [
    {
     "data": {
      "text/plain": [
       "<bound method Series.keys of 0     G\n",
       "1     a\n",
       "2     l\n",
       "3     a\n",
       "4     t\n",
       "5     a\n",
       "6     s\n",
       "7     a\n",
       "8     r\n",
       "9     a\n",
       "10    y\n",
       "dtype: object>"
      ]
     },
     "execution_count": 391,
     "metadata": {},
     "output_type": "execute_result"
    }
   ],
   "source": [
    "ser.keys"
   ]
  },
  {
   "cell_type": "code",
   "execution_count": 278,
   "id": "170ad5b1-3925-4230-bd1f-c1654b9e4a7b",
   "metadata": {},
   "outputs": [
    {
     "data": {
      "text/plain": [
       "RangeIndex(start=0, stop=11, step=1)"
      ]
     },
     "execution_count": 278,
     "metadata": {},
     "output_type": "execute_result"
    }
   ],
   "source": [
    "ser.index"
   ]
  },
  {
   "cell_type": "code",
   "execution_count": 279,
   "id": "aa203c0a-d5fa-44f7-a42e-6baa04858e66",
   "metadata": {},
   "outputs": [
    {
     "data": {
      "text/plain": [
       "Int64Index([3, 2, 1, 4], dtype='int64')"
      ]
     },
     "execution_count": 279,
     "metadata": {},
     "output_type": "execute_result"
    }
   ],
   "source": [
    "s = pd.Series(['a', 'b', 'c', 'd'], index=[3, 2, 1, 4])\n",
    "s.index"
   ]
  },
  {
   "cell_type": "code",
   "execution_count": 331,
   "id": "2acd7c18-c5a4-4dcc-8916-1a180fba95d6",
   "metadata": {},
   "outputs": [
    {
     "data": {
      "text/plain": [
       "c     8\n",
       "b     7\n",
       "a    16\n",
       "e     6\n",
       "f    13\n",
       "g     7\n",
       "h     7\n",
       "j    20\n",
       "i     3\n",
       "k    11\n",
       "dtype: int64"
      ]
     },
     "execution_count": 331,
     "metadata": {},
     "output_type": "execute_result"
    }
   ],
   "source": [
    "ser9 = pd.Series(data = np.random.randint(0,25,10), index = [i for i in \"cbaefghjik\"])\n",
    "ser9"
   ]
  },
  {
   "cell_type": "markdown",
   "id": "8ef369e5-57b1-40ed-a5e5-6f42f8abe350",
   "metadata": {},
   "source": [
    "# .sort_index : \n",
    "\n",
    "Sort Series by index labels: Pandas dataframe.sort_index() function sorts objects by labels along the given axis. \n",
    "Basically the sorting algorithm is applied on the axis labels rather than the actual data in the dataframe and based on that the data is rearranged. We have the freedom to choose what sorting algorithm we would like to apply. There are three possible sorting algorithms that we can use ‘quicksort’, ‘mergesort’ and ‘heapsort’."
   ]
  },
  {
   "cell_type": "code",
   "execution_count": 9,
   "id": "fc352ca1-d30d-4346-9abb-bb40a4dc2b87",
   "metadata": {},
   "outputs": [
    {
     "data": {
      "text/plain": [
       "1    c\n",
       "2    b\n",
       "3    a\n",
       "4    d\n",
       "dtype: object"
      ]
     },
     "execution_count": 9,
     "metadata": {},
     "output_type": "execute_result"
    }
   ],
   "source": [
    "s = pd.Series(['a', 'b', 'c', 'd'], index=[3, 2, 1, 4])\n",
    "s.sort_index()  # ama bu s'i değiştirmez. s desek yine eski hali gelir.\n",
    "# eğer key parametresi olan (inplace= True) yaparsak o zaman kalıcı değiştirir."
   ]
  },
  {
   "cell_type": "code",
   "execution_count": 12,
   "id": "4a7d2417-5c4c-41ef-8868-07a4d8b03748",
   "metadata": {},
   "outputs": [
    {
     "data": {
      "text/plain": [
       "10    y\n",
       "9     a\n",
       "8     r\n",
       "7     a\n",
       "6     s\n",
       "5     a\n",
       "4     t\n",
       "3     a\n",
       "2     l\n",
       "1     a\n",
       "0     G\n",
       "dtype: object"
      ]
     },
     "execution_count": 12,
     "metadata": {},
     "output_type": "execute_result"
    }
   ],
   "source": [
    "# sort descending\n",
    "ser.sort_index(ascending = False)"
   ]
  },
  {
   "cell_type": "markdown",
   "id": "31e8943a-d3d5-4755-a1a3-58d5b4c3769e",
   "metadata": {},
   "source": [
    "# **.sort_values :** \n",
    "\n",
    "Sort a Series in ascending or descending order by the values"
   ]
  },
  {
   "cell_type": "code",
   "execution_count": 181,
   "id": "6dd6ae0f-010e-4348-bbe7-fd329fb27582",
   "metadata": {},
   "outputs": [
    {
     "name": "stdout",
     "output_type": "stream",
     "text": [
      "0     0\n",
      "1     1\n",
      "2     3\n",
      "3    10\n",
      "4     5\n",
      "dtype: int64\n",
      "0     0\n",
      "1     1\n",
      "2     3\n",
      "4     5\n",
      "3    10\n",
      "dtype: int64\n"
     ]
    },
    {
     "data": {
      "text/plain": [
       "3    10\n",
       "4     5\n",
       "2     3\n",
       "1     1\n",
       "0     0\n",
       "dtype: int64"
      ]
     },
     "execution_count": 181,
     "metadata": {},
     "output_type": "execute_result"
    }
   ],
   "source": [
    "s = pd.Series([0, 1, 3, 10, 5])\n",
    "print(s)\n",
    "# Sort values ascending order (default behaviour)\n",
    "print(s.sort_values())\n",
    "#Sort values descending order\n",
    "s.sort_values(ascending=False)"
   ]
  },
  {
   "cell_type": "markdown",
   "id": "816899cd-3e84-4896-aa1e-c0703ee4e422",
   "metadata": {},
   "source": [
    "# .isin : \n",
    "\n",
    "Return a boolean Series showing whether each element in the Series matches an element in the passed sequence of values exactly"
   ]
  },
  {
   "cell_type": "code",
   "execution_count": 399,
   "id": "72531eb3-dfa1-4e3c-a9df-b570c76ffeff",
   "metadata": {},
   "outputs": [
    {
     "data": {
      "text/plain": [
       "0     False\n",
       "1     False\n",
       "2     False\n",
       "3     False\n",
       "4     False\n",
       "5     False\n",
       "6     False\n",
       "7     False\n",
       "8      True\n",
       "9     False\n",
       "10    False\n",
       "dtype: bool"
      ]
     },
     "execution_count": 399,
     "metadata": {},
     "output_type": "execute_result"
    }
   ],
   "source": [
    "ser.isin([\"r\"])  # [] icinde vermeyince error verdi"
   ]
  },
  {
   "cell_type": "code",
   "execution_count": 182,
   "id": "35771239-fc77-437f-a522-c4e906ab0b3c",
   "metadata": {},
   "outputs": [
    {
     "data": {
      "text/plain": [
       "0     True\n",
       "1     True\n",
       "2     True\n",
       "3    False\n",
       "4     True\n",
       "5    False\n",
       "Name: animal, dtype: bool"
      ]
     },
     "execution_count": 182,
     "metadata": {},
     "output_type": "execute_result"
    }
   ],
   "source": [
    "s = pd.Series(['lama', 'cow', 'lama', 'beetle', 'lama','hippo'], name='animal')\n",
    "s.isin(['cow', 'lama'])"
   ]
  },
  {
   "cell_type": "code",
   "execution_count": 24,
   "id": "0d531673-8eec-4638-8e20-1b048972893b",
   "metadata": {},
   "outputs": [
    {
     "data": {
      "text/plain": [
       "0    False\n",
       "1    False\n",
       "2    False\n",
       "3     True\n",
       "4    False\n",
       "5     True\n",
       "Name: animal, dtype: bool"
      ]
     },
     "execution_count": 24,
     "metadata": {},
     "output_type": "execute_result"
    }
   ],
   "source": [
    "# To invert the boolean values, use the ``~`` operator:\n",
    "~s.isin(['cow', 'lama'])"
   ]
  },
  {
   "cell_type": "markdown",
   "id": "d7ec29f6-9edc-414e-8d41-43c3ca36fbba",
   "metadata": {},
   "source": [
    "# .keys : \n",
    "\n",
    "return the index labels of the given series object"
   ]
  },
  {
   "cell_type": "code",
   "execution_count": 261,
   "id": "2309de84-3dc0-4c10-a341-ecea4346b2a3",
   "metadata": {},
   "outputs": [
    {
     "data": {
      "text/plain": [
       "RangeIndex(start=0, stop=11, step=1)"
      ]
     },
     "execution_count": 261,
     "metadata": {},
     "output_type": "execute_result"
    }
   ],
   "source": [
    "ser.keys()"
   ]
  },
  {
   "cell_type": "code",
   "execution_count": 262,
   "id": "d2c98b8d-485e-4004-af42-e4c466cd7596",
   "metadata": {},
   "outputs": [
    {
     "data": {
      "text/plain": [
       "<bound method NDFrame.keys of    age section     city gender favourite_color\n",
       "0   10       A  Gurgaon      M             red\n",
       "1   22       B    Delhi      F            blue\n",
       "2   13       C   Mumbai      F          yellow\n",
       "3   21       B    Delhi      M            pink\n",
       "4   12       B   Mumbai      M           black\n",
       "5   11       A    Delhi      M           green\n",
       "6   17       A   Mumbai      F             red>"
      ]
     },
     "execution_count": 262,
     "metadata": {},
     "output_type": "execute_result"
    }
   ],
   "source": [
    "data5.keys"
   ]
  },
  {
   "cell_type": "markdown",
   "id": "fc124f61-7fd1-4761-a076-7fdcb0af6a80",
   "metadata": {},
   "source": [
    "# .values : \n",
    "\n",
    "Return Series as ndarray or ndarray-like depending on the dtype"
   ]
  },
  {
   "cell_type": "code",
   "execution_count": 27,
   "id": "9f133e5d-91f2-4d56-a719-87d72bea0b85",
   "metadata": {},
   "outputs": [
    {
     "data": {
      "text/plain": [
       "array(['G', 'a', 'l', 'a', 't', 'a', 's', 'a', 'r', 'a', 'y'],\n",
       "      dtype=object)"
      ]
     },
     "execution_count": 27,
     "metadata": {},
     "output_type": "execute_result"
    }
   ],
   "source": [
    "ser.values  # without ()"
   ]
  },
  {
   "cell_type": "code",
   "execution_count": 28,
   "id": "5b536ccf-fdc5-47f0-baa1-f0ae0ecc1d7e",
   "metadata": {},
   "outputs": [
    {
     "data": {
      "text/plain": [
       "array([1, 2, 3])"
      ]
     },
     "execution_count": 28,
     "metadata": {},
     "output_type": "execute_result"
    }
   ],
   "source": [
    "pd.Series([1, 2, 3]).values"
   ]
  },
  {
   "cell_type": "code",
   "execution_count": 263,
   "id": "44ea3cd7-4220-4ac6-b06b-8383ef0f8e14",
   "metadata": {},
   "outputs": [
    {
     "data": {
      "text/plain": [
       "array(['a', 'a', 'b', 'c'], dtype=object)"
      ]
     },
     "execution_count": 263,
     "metadata": {},
     "output_type": "execute_result"
    }
   ],
   "source": [
    "pd.Series(list('aabc')).values"
   ]
  },
  {
   "cell_type": "code",
   "execution_count": 264,
   "id": "c55cdb74-77c3-49c0-b52b-76584dda7c1e",
   "metadata": {},
   "outputs": [
    {
     "data": {
      "text/plain": [
       "array([[10, 'A', 'Gurgaon', 'M', 'red'],\n",
       "       [22, 'B', 'Delhi', 'F', 'blue'],\n",
       "       [13, 'C', 'Mumbai', 'F', 'yellow'],\n",
       "       [21, 'B', 'Delhi', 'M', 'pink'],\n",
       "       [12, 'B', 'Mumbai', 'M', 'black'],\n",
       "       [11, 'A', 'Delhi', 'M', 'green'],\n",
       "       [17, 'A', 'Mumbai', 'F', 'red']], dtype=object)"
      ]
     },
     "execution_count": 264,
     "metadata": {},
     "output_type": "execute_result"
    }
   ],
   "source": [
    "data5.values "
   ]
  },
  {
   "cell_type": "markdown",
   "id": "f2a8de12-192c-4d14-bf42-38ca68f8de1b",
   "metadata": {},
   "source": [
    "# .items : \n",
    "    \n",
    "This method returns an iterable tuple (index, value). This is convenient if you want to create a lazy iterator."
   ]
  },
  {
   "cell_type": "code",
   "execution_count": 30,
   "id": "b955bfec-9975-47ba-a2d3-540a7b0c20f2",
   "metadata": {},
   "outputs": [
    {
     "data": {
      "text/plain": [
       "<zip at 0x7fbd733958c0>"
      ]
     },
     "execution_count": 30,
     "metadata": {},
     "output_type": "execute_result"
    }
   ],
   "source": [
    "ser.items()"
   ]
  },
  {
   "cell_type": "code",
   "execution_count": 34,
   "id": "0c9c891b-e18c-4693-9787-ab6dc9564178",
   "metadata": {},
   "outputs": [
    {
     "name": "stdout",
     "output_type": "stream",
     "text": [
      "G 0\n",
      "a 1\n",
      "l 2\n",
      "a 3\n",
      "t 4\n",
      "a 5\n",
      "s 6\n",
      "a 7\n",
      "r 8\n",
      "a 9\n",
      "y 10\n"
     ]
    }
   ],
   "source": [
    "for index,value in ser.items():\n",
    "    print(value,index)"
   ]
  },
  {
   "cell_type": "code",
   "execution_count": 31,
   "id": "c1881eba-e927-4146-994e-9fb0fc4e8d43",
   "metadata": {},
   "outputs": [
    {
     "name": "stdout",
     "output_type": "stream",
     "text": [
      "Index : 0, Value : A\n",
      "Index : 1, Value : B\n",
      "Index : 2, Value : C\n"
     ]
    }
   ],
   "source": [
    "s = pd.Series(['A', 'B', 'C'])\n",
    "for index, value in s.items():\n",
    "    print(f\"Index : {index}, Value : {value}\")"
   ]
  },
  {
   "cell_type": "markdown",
   "id": "b6bffe16-dd71-40b5-b96c-17bf52bf912a",
   "metadata": {},
   "source": []
  },
  {
   "cell_type": "markdown",
   "id": "ac8a3bcb-ba41-43b4-83c1-179700889d15",
   "metadata": {},
   "source": [
    "# 1. indexing and slicing with series"
   ]
  },
  {
   "cell_type": "code",
   "execution_count": 412,
   "id": "73dbdb6a-0a9e-41d1-a49a-1c4146aeb37f",
   "metadata": {},
   "outputs": [
    {
     "data": {
      "text/plain": [
       "USA        1\n",
       "Germany    2\n",
       "RF         3\n",
       "Japan      4\n",
       "dtype: int64"
      ]
     },
     "execution_count": 412,
     "metadata": {},
     "output_type": "execute_result"
    }
   ],
   "source": [
    "\n",
    "ser1 = pd.Series([1, 2, 3, 4], index = ['USA', 'Germany','RF', 'Japan'])\n",
    "ser2 = pd.Series([1, 2, 5, 4, 6], index = ['USA', 'Germany','Italy', 'Japan', 'Spain'])\n",
    "ser1"
   ]
  },
  {
   "cell_type": "code",
   "execution_count": 347,
   "id": "0729d348-6e93-4d7b-bd3b-0a9cde618838",
   "metadata": {},
   "outputs": [
    {
     "name": "stdout",
     "output_type": "stream",
     "text": [
      "4\n",
      "4\n",
      "Index(['USA', 'Germany', 'RF', 'Japan'], dtype='object')\n",
      "Japan\n",
      "3\n",
      "4\n"
     ]
    }
   ],
   "source": [
    "print(ser1[3])\n",
    "print(ser1[\"Japan\"])\n",
    "print(ser1.index)\n",
    "print(ser1.index[3])\n",
    "# japan kacta bilmiyor ama ogrenmek istiyorsak:\n",
    "\n",
    "print(ser1.index.get_loc(\"Japan\"))  # get location of Japan"
   ]
  },
  {
   "cell_type": "code",
   "execution_count": 349,
   "id": "bb61efcf-56bf-4c2a-b2ca-e595ac2c7a25",
   "metadata": {},
   "outputs": [
    {
     "name": "stdout",
     "output_type": "stream",
     "text": [
      "(4,) (5,)\n"
     ]
    },
    {
     "data": {
      "text/plain": [
       "Germany    4.0\n",
       "Italy      NaN\n",
       "Japan      8.0\n",
       "RF         NaN\n",
       "Spain      NaN\n",
       "USA        2.0\n",
       "dtype: float64"
      ]
     },
     "execution_count": 349,
     "metadata": {},
     "output_type": "execute_result"
    }
   ],
   "source": [
    "print(ser1.shape, ser2.shape)\n",
    "ser1+ser2  # array hic toplamazdı farklı len diye. burda indexleri aynı olanları toplayıp her 2 seride de \n",
    "# olmayanlara NaN verdi."
   ]
  },
  {
   "cell_type": "code",
   "execution_count": 350,
   "id": "0d14235b-2f8c-46c5-aec5-0df7c918935f",
   "metadata": {},
   "outputs": [
    {
     "data": {
      "text/plain": [
       "Germany     4.0\n",
       "Italy       NaN\n",
       "Japan      16.0\n",
       "RF          NaN\n",
       "Spain       NaN\n",
       "USA         1.0\n",
       "dtype: float64"
      ]
     },
     "execution_count": 350,
     "metadata": {},
     "output_type": "execute_result"
    }
   ],
   "source": [
    "ser1 * ser2"
   ]
  },
  {
   "cell_type": "code",
   "execution_count": null,
   "id": "fa1ad014-6b63-4b6e-82aa-f3ebaada3cfe",
   "metadata": {},
   "outputs": [],
   "source": []
  },
  {
   "cell_type": "code",
   "execution_count": 418,
   "id": "9811d4e8-0f6f-49cd-8e5a-a55dbb148a33",
   "metadata": {},
   "outputs": [
    {
     "name": "stdout",
     "output_type": "stream",
     "text": [
      "terry    121\n",
      "orion    150\n",
      "dtype: int64\n"
     ]
    },
    {
     "data": {
      "text/plain": [
       "terry      121\n",
       "micheal    200\n",
       "dtype: int64"
      ]
     },
     "execution_count": 418,
     "metadata": {},
     "output_type": "execute_result"
    }
   ],
   "source": [
    "ser_label = pd.Series(data = [121, 200, 150, 99], index = [\"terry\", \"micheal\", \"orion\", \"jason\"])\n",
    "print(ser_label[[0,2]])  # birden fazla getireceksek [] icine.\n",
    "ser_label[0:2]  # slicing tek []"
   ]
  },
  {
   "cell_type": "code",
   "execution_count": 353,
   "id": "7a1f9acd-a5e7-442d-bbda-dc4167e1f2c6",
   "metadata": {},
   "outputs": [
    {
     "data": {
      "text/plain": [
       "terry    121\n",
       "orion    150\n",
       "dtype: int64"
      ]
     },
     "execution_count": 353,
     "metadata": {},
     "output_type": "execute_result"
    }
   ],
   "source": [
    "ser_label[[\"terry\", \"orion\"]]"
   ]
  },
  {
   "cell_type": "code",
   "execution_count": 355,
   "id": "946c2b30-fee6-401e-b123-8cb2eea00980",
   "metadata": {},
   "outputs": [
    {
     "data": {
      "text/plain": [
       "terry      121\n",
       "micheal    200\n",
       "orion      150\n",
       "dtype: int64"
      ]
     },
     "execution_count": 355,
     "metadata": {},
     "output_type": "execute_result"
    }
   ],
   "source": [
    "ser_label[0:3]  # 3 dahil değil"
   ]
  },
  {
   "cell_type": "code",
   "execution_count": 354,
   "id": "f7760db6-a7b1-4cc9-a448-24a7344b760e",
   "metadata": {},
   "outputs": [
    {
     "data": {
      "text/plain": [
       "terry      121\n",
       "micheal    200\n",
       "orion      150\n",
       "dtype: int64"
      ]
     },
     "execution_count": 354,
     "metadata": {},
     "output_type": "execute_result"
    }
   ],
   "source": [
    "# labella slicing:\n",
    "# önemli bir fark. label olarak girince son label da (orion) inclusive oluyor.\n",
    "ser_label[\"terry\" : \"orion\"]"
   ]
  },
  {
   "cell_type": "markdown",
   "id": "7b50dfcd-d7c2-4356-a8d3-3de773637ecb",
   "metadata": {},
   "source": [
    "**Selection with condition and broadcasting in series**"
   ]
  },
  {
   "cell_type": "code",
   "execution_count": 419,
   "id": "8269ab1c-bf54-47e7-9c7d-d437939279ee",
   "metadata": {},
   "outputs": [
    {
     "data": {
      "text/plain": [
       "True"
      ]
     },
     "execution_count": 419,
     "metadata": {},
     "output_type": "execute_result"
    }
   ],
   "source": [
    "ser_label = pd.Series(data = [121, 200, 150, 99], index = [\"terry\", \"micheal\", \"orion\", \"jason\"])\n",
    "\n",
    "\"terry\" in ser_label  # bu index arar"
   ]
  },
  {
   "cell_type": "code",
   "execution_count": 358,
   "id": "57984ce0-a73e-4ad1-bbc2-cadf4323612f",
   "metadata": {},
   "outputs": [
    {
     "name": "stdout",
     "output_type": "stream",
     "text": [
      "False\n"
     ]
    },
    {
     "data": {
      "text/plain": [
       "True"
      ]
     },
     "execution_count": 358,
     "metadata": {},
     "output_type": "execute_result"
    }
   ],
   "source": [
    "# value basıl aratacacagiz\n",
    "print(121 in ser_label)  # bu indexte aradı ve false verdi\n",
    "121 in ser_label.values  # valuesda aradi"
   ]
  },
  {
   "cell_type": "code",
   "execution_count": 361,
   "id": "23e1344d-ddee-4f6c-82d8-e6c01a0e2684",
   "metadata": {},
   "outputs": [
    {
     "name": "stdout",
     "output_type": "stream",
     "text": [
      "terry      False\n",
      "micheal    False\n",
      "orion      False\n",
      "jason       True\n",
      "dtype: bool\n",
      "\n",
      "jason    99\n",
      "dtype: int64\n"
     ]
    }
   ],
   "source": [
    "print(ser_label < 100)  # bu false treu getirri\n",
    "print()\n",
    "print(ser_label[ser_label < 100])  # bu değerleri getirir. mantil slicelama gibi"
   ]
  },
  {
   "cell_type": "code",
   "execution_count": 362,
   "id": "ce44aad7-26de-49ad-8616-b1521ddeda9b",
   "metadata": {},
   "outputs": [
    {
     "data": {
      "text/plain": [
       "terry      121\n",
       "micheal    200\n",
       "orion      150\n",
       "jason      100\n",
       "dtype: int64"
      ]
     },
     "execution_count": 362,
     "metadata": {},
     "output_type": "execute_result"
    }
   ],
   "source": [
    "ser_label[ser_label<100] = 100\n",
    "# 100den kucuk olanları 100 yap demek bu. jason 100 oldu\n",
    "ser_label"
   ]
  },
  {
   "cell_type": "code",
   "execution_count": 367,
   "id": "c3d880fd-8d48-4584-a5ab-09afeb05a82d",
   "metadata": {},
   "outputs": [
    {
     "name": "stdout",
     "output_type": "stream",
     "text": [
      "terry      False\n",
      "micheal    False\n",
      "orion      False\n",
      "jason      False\n",
      "dtype: bool\n",
      "-------------------------------------\n",
      "Series([], dtype: int64)\n",
      "-------------------------------------\n",
      "terry      125\n",
      "micheal    200\n",
      "orion      150\n",
      "jason      100\n",
      "dtype: int64\n"
     ]
    }
   ],
   "source": [
    "print(ser_label.isin([121]))\n",
    "print(\"-------------------------------------\")\n",
    "print(ser_label[ser_label.isin([121])])\n",
    "print(\"-------------------------------------\")\n",
    "ser_label[ser_label.isin([121])] = 125\n",
    "print(ser_label)"
   ]
  },
  {
   "cell_type": "markdown",
   "id": "466adf6a-7bee-4062-a50a-a3eb92d86f6a",
   "metadata": {},
   "source": []
  },
  {
   "cell_type": "code",
   "execution_count": null,
   "id": "f1495494-290b-4f1d-a7c0-38502a2bac7b",
   "metadata": {},
   "outputs": [],
   "source": []
  }
 ],
 "metadata": {
  "kernelspec": {
   "display_name": "Python 3 (ipykernel)",
   "language": "python",
   "name": "python3"
  },
  "language_info": {
   "codemirror_mode": {
    "name": "ipython",
    "version": 3
   },
   "file_extension": ".py",
   "mimetype": "text/x-python",
   "name": "python",
   "nbconvert_exporter": "python",
   "pygments_lexer": "ipython3",
   "version": "3.9.12"
  }
 },
 "nbformat": 4,
 "nbformat_minor": 5
}
