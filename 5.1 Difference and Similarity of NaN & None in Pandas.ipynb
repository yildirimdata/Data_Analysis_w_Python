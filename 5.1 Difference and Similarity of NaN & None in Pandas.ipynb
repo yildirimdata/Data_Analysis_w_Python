{
 "cells": [
  {
   "cell_type": "markdown",
   "id": "0f9b473a",
   "metadata": {},
   "source": [
    "<a id=\"toc\"></a>\n",
    "\n",
    "### <p style=\"background-color:#0D8D99; font-family:newtimeroman; color:#FFF9ED; font-size:175%; text-align:center; border-radius:10px 10px;\">Difference and Similarity of NaN & None in Pandas</p>"
   ]
  },
  {
   "cell_type": "code",
   "execution_count": 1,
   "id": "57d61fcd",
   "metadata": {},
   "outputs": [],
   "source": [
    "import pandas as pd\n",
    "import numpy as np\n",
    "import seaborn as sns"
   ]
  },
  {
   "cell_type": "raw",
   "id": "f75156b8",
   "metadata": {},
   "source": [
    "Java, C++ gibi popüler dillerin aksine Python Null keyword’ünü kullanmaz. Bunun yerine NaN veya None kullanır.\n",
    "\n",
    "NaN ile None  konsepti yeni başlayanlar için hep karıştırılır. Onlarla benzer işler yaptırılabilse de aralarında önemli farklar vardır. \n",
    "\n",
    "NaN bir nümerik value’dur. Pandas'ta missing value'lar için bir yer tutucu (place holder) olarak kullanılır.\n",
    "\n",
    "None ise NoneType tipinde bir dahili bir Python tipidir. Ve bu bağlamda; \"geçersiz sayısal değer\" olmaktan ziyade \"var olmayan\" (inexistent) veya \"boşluk\" (empty) olarak ifade edilebilir. \n",
    "\n",
    "NaN, Not a Number anlamına gelir ve verilerdeki missing value’ları temsil etmenin yaygın yollarından biridir. Özel bir float değeridir ve float dışında başka bir tipe dönüştürülemez.\n",
    "\n",
    "None'ın ise bildiğimiz anlamda bir tipi yoktur. tipi, Python'un dahili tiplerinden biri olan NoneType'tır."
   ]
  },
  {
   "cell_type": "raw",
   "id": "24f90845",
   "metadata": {},
   "source": [
    "None’dan ziyade NaN kullanmanın ana nedeni, None’ın daha kullanışsız olan “object” dtyep’ında muhafaza edilmesine karşılık NaN’ın numpy’ın “float64” dytpe’ında muhafaza edilebilmesidir.\n",
    "\n",
    "Çünkü object tipinde olması numpy’ın tüm etkinliğini kaybetmesi demektir. Oysa np.nan tipi (NaN) vectorized operasyonlara müsaade eder ki numpy’dan beklentimiz zaten budur.\n",
    "\n",
    "NaN, matematiksel işlemlerde sayısal değer olarak kullanılabilir. Fakat None kullanılamaz. En azından kullanılmamalıdır.\n",
    "\n",
    "İçinde NaN olan bir array’in toplamını veya ortalamasını alırsanız nan sonuç döndürecektir. Ancak içinde None olan bir array’de aynı işlemleri yapamayacaksınız."
   ]
  },
  {
   "cell_type": "markdown",
   "id": "24d7d517",
   "metadata": {},
   "source": [
    "**object==bad, float==good**"
   ]
  },
  {
   "cell_type": "raw",
   "id": "4b5a764f",
   "metadata": {},
   "source": [
    "Önce tiplerine bir bakalım.:"
   ]
  },
  {
   "cell_type": "code",
   "execution_count": 2,
   "id": "ea94ad90",
   "metadata": {},
   "outputs": [
    {
     "name": "stdout",
     "output_type": "stream",
     "text": [
      "    type of np.nan : <class 'float'>\n",
      "      type of None : <class 'NoneType'>\n"
     ]
    }
   ],
   "source": [
    "print(\"{:>20}\".format(\"type of np.nan :\"), type(np.nan))\n",
    "\n",
    "print(\"{:>20}\".format(\"type of None :\"), type(None))"
   ]
  },
  {
   "cell_type": "code",
   "execution_count": 3,
   "id": "9aaea92e",
   "metadata": {},
   "outputs": [
    {
     "name": "stdout",
     "output_type": "stream",
     "text": [
      "False\n",
      "True\n"
     ]
    },
    {
     "data": {
      "text/plain": [
       "\" is ile sorgulama yaptığınızda id değerlerini yani;\\n memory location'ını sorgulamış olursunuz ki bu değerler aynıdır.\\n Fakat bu; value'ları aynı demek değildir!!\""
      ]
     },
     "execution_count": 3,
     "metadata": {},
     "output_type": "execute_result"
    }
   ],
   "source": [
    "# iki nan'ı karşılaştırırsak:\n",
    "\n",
    "print(np.nan == np.nan) # değer olarak eşit değildir. çünkü nan belirsiz bir değerdir.\n",
    "\n",
    "print(np.nan is np.nan) \n",
    "\n",
    "\"\"\" is ile sorgulama yaptığınızda id değerlerini yani;\n",
    " memory location'ını sorgulamış olursunuz ki bu değerler aynıdır.\n",
    " Fakat bu; value'ları aynı demek değildir!!\"\"\""
   ]
  },
  {
   "cell_type": "code",
   "execution_count": 4,
   "id": "79e277b6",
   "metadata": {},
   "outputs": [
    {
     "name": "stdout",
     "output_type": "stream",
     "text": [
      "True\n",
      "True\n"
     ]
    }
   ],
   "source": [
    "# iki None'ı karşılaştırırsak:\n",
    "\n",
    "print(None == None)\n",
    "\n",
    "print(None is None)"
   ]
  },
  {
   "cell_type": "markdown",
   "id": "52f6bbb1",
   "metadata": {},
   "source": [
    "<a id=\"toc\"></a>\n",
    "\n",
    "### <p style=\"background-color:#9d4f8c; font-family:newtimeroman; color:#FFF9ED; font-size:175%; text-align:center; border-radius:10px 10px;\">Bir missing value olarak NaN ve None</p>"
   ]
  },
  {
   "cell_type": "markdown",
   "id": "d1b66026",
   "metadata": {},
   "source": [
    "Pandas'ta, bir missing value (NA: not available) esas olarak nan (not a number) ile temsil edilir. Bununla birlikte None da bir missing value olarak kabul edilir."
   ]
  },
  {
   "cell_type": "raw",
   "id": "db9c6b88",
   "metadata": {},
   "source": [
    "NaN ile None'ın Data tipleri farklı olmasına rağmen Pandas bunlara benzer şekilde muamele eder.  \n",
    "\n",
    "Örneğin aşağıdaki dataframe'i oluşturup üzerinden NaN ve None'lara focus olalım."
   ]
  },
  {
   "cell_type": "code",
   "execution_count": 2,
   "id": "5e4d502f",
   "metadata": {},
   "outputs": [
    {
     "data": {
      "text/html": [
       "<div>\n",
       "<style scoped>\n",
       "    .dataframe tbody tr th:only-of-type {\n",
       "        vertical-align: middle;\n",
       "    }\n",
       "\n",
       "    .dataframe tbody tr th {\n",
       "        vertical-align: top;\n",
       "    }\n",
       "\n",
       "    .dataframe thead th {\n",
       "        text-align: right;\n",
       "    }\n",
       "</style>\n",
       "<table border=\"1\" class=\"dataframe\">\n",
       "  <thead>\n",
       "    <tr style=\"text-align: right;\">\n",
       "      <th></th>\n",
       "      <th>categoric</th>\n",
       "      <th>object dtype</th>\n",
       "      <th>float dtype</th>\n",
       "    </tr>\n",
       "  </thead>\n",
       "  <tbody>\n",
       "    <tr>\n",
       "      <th>0</th>\n",
       "      <td>M</td>\n",
       "      <td>2</td>\n",
       "      <td>8.0</td>\n",
       "    </tr>\n",
       "    <tr>\n",
       "      <th>1</th>\n",
       "      <td>F</td>\n",
       "      <td>3</td>\n",
       "      <td>NaN</td>\n",
       "    </tr>\n",
       "    <tr>\n",
       "      <th>2</th>\n",
       "      <td>M</td>\n",
       "      <td>5</td>\n",
       "      <td>5.0</td>\n",
       "    </tr>\n",
       "    <tr>\n",
       "      <th>3</th>\n",
       "      <td>F</td>\n",
       "      <td>nan</td>\n",
       "      <td>8.0</td>\n",
       "    </tr>\n",
       "    <tr>\n",
       "      <th>4</th>\n",
       "      <td>M</td>\n",
       "      <td>7</td>\n",
       "      <td>11.0</td>\n",
       "    </tr>\n",
       "    <tr>\n",
       "      <th>5</th>\n",
       "      <td>F</td>\n",
       "      <td>1</td>\n",
       "      <td>NaN</td>\n",
       "    </tr>\n",
       "    <tr>\n",
       "      <th>6</th>\n",
       "      <td>M</td>\n",
       "      <td>nan</td>\n",
       "      <td>NaN</td>\n",
       "    </tr>\n",
       "    <tr>\n",
       "      <th>7</th>\n",
       "      <td>F</td>\n",
       "      <td>10</td>\n",
       "      <td>2.0</td>\n",
       "    </tr>\n",
       "    <tr>\n",
       "      <th>8</th>\n",
       "      <td>M</td>\n",
       "      <td>14</td>\n",
       "      <td>3.0</td>\n",
       "    </tr>\n",
       "    <tr>\n",
       "      <th>9</th>\n",
       "      <td>F</td>\n",
       "      <td>-</td>\n",
       "      <td>7.0</td>\n",
       "    </tr>\n",
       "    <tr>\n",
       "      <th>10</th>\n",
       "      <td>M</td>\n",
       "      <td>6</td>\n",
       "      <td>9.0</td>\n",
       "    </tr>\n",
       "  </tbody>\n",
       "</table>\n",
       "</div>"
      ],
      "text/plain": [
       "   categoric object dtype  float dtype\n",
       "0          M            2          8.0\n",
       "1          F            3          NaN\n",
       "2          M            5          5.0\n",
       "3          F          nan          8.0\n",
       "4          M            7         11.0\n",
       "5          F            1          NaN\n",
       "6          M          nan          NaN\n",
       "7          F           10          2.0\n",
       "8          M           14          3.0\n",
       "9          F            -          7.0\n",
       "10         M            6          9.0"
      ]
     },
     "execution_count": 2,
     "metadata": {},
     "output_type": "execute_result"
    }
   ],
   "source": [
    "gender = [\"M\", \"F\", \"M\", \"F\", \"M\", \"F\", \"M\", \"F\", \"M\", \"F\", \"M\"]\n",
    "V1 = np.array([2, 3, 5, np.nan, 7, 1, np.nan, 10, 14, \"-\", 6])\n",
    "V2 = np.array([8, np.nan, 5, 8, 11, np.nan, np.nan, 2, 3, 7, 9])\n",
    "\n",
    "df0 = pd.DataFrame({\n",
    "                   \"categoric\": gender,\n",
    "                   \"object dtype\" : V1,\n",
    "                   \"float dtype\" : V2,\n",
    "                  })\n",
    "df = df0.copy()\n",
    "df"
   ]
  },
  {
   "cell_type": "code",
   "execution_count": 3,
   "id": "17f2f0ee",
   "metadata": {},
   "outputs": [
    {
     "name": "stdout",
     "output_type": "stream",
     "text": [
      "<class 'pandas.core.frame.DataFrame'>\n",
      "RangeIndex: 11 entries, 0 to 10\n",
      "Data columns (total 3 columns):\n",
      " #   Column        Non-Null Count  Dtype  \n",
      "---  ------        --------------  -----  \n",
      " 0   categoric     11 non-null     object \n",
      " 1   object dtype  11 non-null     object \n",
      " 2   float dtype   8 non-null      float64\n",
      "dtypes: float64(1), object(2)\n",
      "memory usage: 392.0+ bytes\n"
     ]
    }
   ],
   "source": [
    "df.info()\n",
    "\n",
    "# ilk 2 sütun object, 3. sütun float dtype'ında!"
   ]
  },
  {
   "cell_type": "code",
   "execution_count": 4,
   "id": "50087679",
   "metadata": {},
   "outputs": [
    {
     "data": {
      "text/html": [
       "<div>\n",
       "<style scoped>\n",
       "    .dataframe tbody tr th:only-of-type {\n",
       "        vertical-align: middle;\n",
       "    }\n",
       "\n",
       "    .dataframe tbody tr th {\n",
       "        vertical-align: top;\n",
       "    }\n",
       "\n",
       "    .dataframe thead th {\n",
       "        text-align: right;\n",
       "    }\n",
       "</style>\n",
       "<table border=\"1\" class=\"dataframe\">\n",
       "  <thead>\n",
       "    <tr style=\"text-align: right;\">\n",
       "      <th></th>\n",
       "      <th>categoric</th>\n",
       "      <th>object dtype</th>\n",
       "      <th>float dtype</th>\n",
       "    </tr>\n",
       "  </thead>\n",
       "  <tbody>\n",
       "    <tr>\n",
       "      <th>0</th>\n",
       "      <td>None</td>\n",
       "      <td>None</td>\n",
       "      <td>NaN</td>\n",
       "    </tr>\n",
       "    <tr>\n",
       "      <th>1</th>\n",
       "      <td>F</td>\n",
       "      <td>3</td>\n",
       "      <td>NaN</td>\n",
       "    </tr>\n",
       "    <tr>\n",
       "      <th>2</th>\n",
       "      <td>M</td>\n",
       "      <td>5</td>\n",
       "      <td>5.0</td>\n",
       "    </tr>\n",
       "    <tr>\n",
       "      <th>3</th>\n",
       "      <td>F</td>\n",
       "      <td>nan</td>\n",
       "      <td>8.0</td>\n",
       "    </tr>\n",
       "    <tr>\n",
       "      <th>4</th>\n",
       "      <td>M</td>\n",
       "      <td>7</td>\n",
       "      <td>11.0</td>\n",
       "    </tr>\n",
       "    <tr>\n",
       "      <th>5</th>\n",
       "      <td>F</td>\n",
       "      <td>1</td>\n",
       "      <td>NaN</td>\n",
       "    </tr>\n",
       "    <tr>\n",
       "      <th>6</th>\n",
       "      <td>M</td>\n",
       "      <td>nan</td>\n",
       "      <td>NaN</td>\n",
       "    </tr>\n",
       "    <tr>\n",
       "      <th>7</th>\n",
       "      <td>F</td>\n",
       "      <td>10</td>\n",
       "      <td>2.0</td>\n",
       "    </tr>\n",
       "    <tr>\n",
       "      <th>8</th>\n",
       "      <td>M</td>\n",
       "      <td>14</td>\n",
       "      <td>3.0</td>\n",
       "    </tr>\n",
       "    <tr>\n",
       "      <th>9</th>\n",
       "      <td>F</td>\n",
       "      <td>-</td>\n",
       "      <td>7.0</td>\n",
       "    </tr>\n",
       "    <tr>\n",
       "      <th>10</th>\n",
       "      <td>M</td>\n",
       "      <td>6</td>\n",
       "      <td>9.0</td>\n",
       "    </tr>\n",
       "  </tbody>\n",
       "</table>\n",
       "</div>"
      ],
      "text/plain": [
       "   categoric object dtype  float dtype\n",
       "0       None         None          NaN\n",
       "1          F            3          NaN\n",
       "2          M            5          5.0\n",
       "3          F          nan          8.0\n",
       "4          M            7         11.0\n",
       "5          F            1          NaN\n",
       "6          M          nan          NaN\n",
       "7          F           10          2.0\n",
       "8          M           14          3.0\n",
       "9          F            -          7.0\n",
       "10         M            6          9.0"
      ]
     },
     "execution_count": 4,
     "metadata": {},
     "output_type": "execute_result"
    }
   ],
   "source": [
    "# var1'in ve gender'ın ilk elemanını None yapalım.\n",
    "# istediğim sütunların indeks değerlerini fancy index olarak gireceğim:\n",
    "\n",
    "df.iloc[0, [0,1,2]] = None\n",
    "df"
   ]
  },
  {
   "cell_type": "raw",
   "id": "d04c66b0",
   "metadata": {},
   "source": [
    "dtype'ı object olan ilk 2 sütunda (ilki kategorik ikincisi kategorik değil) None'ların None olarak kaldığını, fakat nümerik bir sütun olan \"float dtype\" sütununda NaN'a dönüştüğünü fark ettik."
   ]
  },
  {
   "cell_type": "raw",
   "id": "0ea370ce",
   "metadata": {},
   "source": [
    "şimdi df'teki missing value'ları check edelim. \n",
    "ve pandas'ın np.nan ile None değerlere nasıl yaklaştığını görelim:"
   ]
  },
  {
   "cell_type": "code",
   "execution_count": 5,
   "id": "5131ac7a",
   "metadata": {},
   "outputs": [
    {
     "data": {
      "text/html": [
       "<div>\n",
       "<style scoped>\n",
       "    .dataframe tbody tr th:only-of-type {\n",
       "        vertical-align: middle;\n",
       "    }\n",
       "\n",
       "    .dataframe tbody tr th {\n",
       "        vertical-align: top;\n",
       "    }\n",
       "\n",
       "    .dataframe thead th {\n",
       "        text-align: right;\n",
       "    }\n",
       "</style>\n",
       "<table border=\"1\" class=\"dataframe\">\n",
       "  <thead>\n",
       "    <tr style=\"text-align: right;\">\n",
       "      <th></th>\n",
       "      <th>categoric</th>\n",
       "      <th>object dtype</th>\n",
       "      <th>float dtype</th>\n",
       "    </tr>\n",
       "  </thead>\n",
       "  <tbody>\n",
       "    <tr>\n",
       "      <th>0</th>\n",
       "      <td>True</td>\n",
       "      <td>True</td>\n",
       "      <td>True</td>\n",
       "    </tr>\n",
       "    <tr>\n",
       "      <th>1</th>\n",
       "      <td>False</td>\n",
       "      <td>False</td>\n",
       "      <td>True</td>\n",
       "    </tr>\n",
       "    <tr>\n",
       "      <th>2</th>\n",
       "      <td>False</td>\n",
       "      <td>False</td>\n",
       "      <td>False</td>\n",
       "    </tr>\n",
       "    <tr>\n",
       "      <th>3</th>\n",
       "      <td>False</td>\n",
       "      <td>False</td>\n",
       "      <td>False</td>\n",
       "    </tr>\n",
       "    <tr>\n",
       "      <th>4</th>\n",
       "      <td>False</td>\n",
       "      <td>False</td>\n",
       "      <td>False</td>\n",
       "    </tr>\n",
       "    <tr>\n",
       "      <th>5</th>\n",
       "      <td>False</td>\n",
       "      <td>False</td>\n",
       "      <td>True</td>\n",
       "    </tr>\n",
       "    <tr>\n",
       "      <th>6</th>\n",
       "      <td>False</td>\n",
       "      <td>False</td>\n",
       "      <td>True</td>\n",
       "    </tr>\n",
       "    <tr>\n",
       "      <th>7</th>\n",
       "      <td>False</td>\n",
       "      <td>False</td>\n",
       "      <td>False</td>\n",
       "    </tr>\n",
       "    <tr>\n",
       "      <th>8</th>\n",
       "      <td>False</td>\n",
       "      <td>False</td>\n",
       "      <td>False</td>\n",
       "    </tr>\n",
       "    <tr>\n",
       "      <th>9</th>\n",
       "      <td>False</td>\n",
       "      <td>False</td>\n",
       "      <td>False</td>\n",
       "    </tr>\n",
       "    <tr>\n",
       "      <th>10</th>\n",
       "      <td>False</td>\n",
       "      <td>False</td>\n",
       "      <td>False</td>\n",
       "    </tr>\n",
       "  </tbody>\n",
       "</table>\n",
       "</div>"
      ],
      "text/plain": [
       "    categoric  object dtype  float dtype\n",
       "0        True          True         True\n",
       "1       False         False         True\n",
       "2       False         False        False\n",
       "3       False         False        False\n",
       "4       False         False        False\n",
       "5       False         False         True\n",
       "6       False         False         True\n",
       "7       False         False        False\n",
       "8       False         False        False\n",
       "9       False         False        False\n",
       "10      False         False        False"
      ]
     },
     "execution_count": 5,
     "metadata": {},
     "output_type": "execute_result"
    }
   ],
   "source": [
    "df.isnull()"
   ]
  },
  {
   "cell_type": "raw",
   "id": "cc86a2f5",
   "metadata": {},
   "source": [
    "bakın categoric, object type ve float type featurelarındaki \"None\" olan ilk elemanların üçü de null değer olarak görülerek \"True\" verdi.\n",
    "\n",
    "Bununla birlikte object dtype sütununun 3. ve 6. indeksindeki nan olan elemanları bu sütunun tipi object olduğundan \"null\" olarak değerlendirilmedi ve False verdi."
   ]
  },
  {
   "cell_type": "markdown",
   "id": "62d5a9d9",
   "metadata": {},
   "source": [
    "<a id=\"toc\"></a>\n",
    "\n",
    "### <p style=\"background-color:#9d4f8c; font-family:newtimeroman; color:#FFF9ED; font-size:175%; text-align:center; border-radius:10px 10px;\">Missing value'ları doldurma</p>"
   ]
  },
  {
   "cell_type": "raw",
   "id": "df158d25",
   "metadata": {},
   "source": [
    "Bu missing value'ları doldurmak için sütunların dtype'ına bağlı olarak değişik veriler kullanabiliriz. \n",
    "\n",
    "Şimdi; np.nan ve None olarak her iki null değerin de pd.fillna() fonksiyonu ile doldurulabildiğini göreceğiz. Bunların ikisinin de isnull()'a karşılık True verdiklerini hatırlayalım.\n",
    "\n",
    "Biz Data Analistler, \"categoric\" gibi kategorik sütunlarda missing value'ları mode ile doldurmayı tercih ederiz. Bununla birlikte float dtype gibi nümerik sütunda ise değişik metodlar uygulamakla birlikte burada mean()'i tercih edeceğiz:\n",
    "\n",
    "Ayrıca missing value'ları doldurmadan önce içinde nümerik değerler içeren object dtype sütununun da tipini float'a çevireceğiz.\n",
    "\n",
    "Tabi ki bu sütunu float'a çevirmeden önce içindeki verilerin float'a çevrilmeye uygun olduğundan emin olmalıyız. Bu nedenle 9. indeksteki \"-\" değerini np.nan'a çevirmemiz gerekecek. "
   ]
  },
  {
   "cell_type": "code",
   "execution_count": 6,
   "id": "a1db6806",
   "metadata": {},
   "outputs": [
    {
     "data": {
      "text/html": [
       "<div>\n",
       "<style scoped>\n",
       "    .dataframe tbody tr th:only-of-type {\n",
       "        vertical-align: middle;\n",
       "    }\n",
       "\n",
       "    .dataframe tbody tr th {\n",
       "        vertical-align: top;\n",
       "    }\n",
       "\n",
       "    .dataframe thead th {\n",
       "        text-align: right;\n",
       "    }\n",
       "</style>\n",
       "<table border=\"1\" class=\"dataframe\">\n",
       "  <thead>\n",
       "    <tr style=\"text-align: right;\">\n",
       "      <th></th>\n",
       "      <th>categoric</th>\n",
       "      <th>object dtype</th>\n",
       "      <th>float dtype</th>\n",
       "    </tr>\n",
       "  </thead>\n",
       "  <tbody>\n",
       "    <tr>\n",
       "      <th>0</th>\n",
       "      <td>F</td>\n",
       "      <td>6.571429</td>\n",
       "      <td>6.428571</td>\n",
       "    </tr>\n",
       "    <tr>\n",
       "      <th>1</th>\n",
       "      <td>F</td>\n",
       "      <td>3.000000</td>\n",
       "      <td>6.428571</td>\n",
       "    </tr>\n",
       "    <tr>\n",
       "      <th>2</th>\n",
       "      <td>M</td>\n",
       "      <td>5.000000</td>\n",
       "      <td>5.000000</td>\n",
       "    </tr>\n",
       "    <tr>\n",
       "      <th>3</th>\n",
       "      <td>F</td>\n",
       "      <td>6.571429</td>\n",
       "      <td>8.000000</td>\n",
       "    </tr>\n",
       "    <tr>\n",
       "      <th>4</th>\n",
       "      <td>M</td>\n",
       "      <td>7.000000</td>\n",
       "      <td>11.000000</td>\n",
       "    </tr>\n",
       "    <tr>\n",
       "      <th>5</th>\n",
       "      <td>F</td>\n",
       "      <td>1.000000</td>\n",
       "      <td>6.428571</td>\n",
       "    </tr>\n",
       "    <tr>\n",
       "      <th>6</th>\n",
       "      <td>M</td>\n",
       "      <td>6.571429</td>\n",
       "      <td>6.428571</td>\n",
       "    </tr>\n",
       "    <tr>\n",
       "      <th>7</th>\n",
       "      <td>F</td>\n",
       "      <td>10.000000</td>\n",
       "      <td>2.000000</td>\n",
       "    </tr>\n",
       "    <tr>\n",
       "      <th>8</th>\n",
       "      <td>M</td>\n",
       "      <td>14.000000</td>\n",
       "      <td>3.000000</td>\n",
       "    </tr>\n",
       "    <tr>\n",
       "      <th>9</th>\n",
       "      <td>F</td>\n",
       "      <td>6.571429</td>\n",
       "      <td>7.000000</td>\n",
       "    </tr>\n",
       "    <tr>\n",
       "      <th>10</th>\n",
       "      <td>M</td>\n",
       "      <td>6.000000</td>\n",
       "      <td>9.000000</td>\n",
       "    </tr>\n",
       "  </tbody>\n",
       "</table>\n",
       "</div>"
      ],
      "text/plain": [
       "   categoric  object dtype  float dtype\n",
       "0          F      6.571429     6.428571\n",
       "1          F      3.000000     6.428571\n",
       "2          M      5.000000     5.000000\n",
       "3          F      6.571429     8.000000\n",
       "4          M      7.000000    11.000000\n",
       "5          F      1.000000     6.428571\n",
       "6          M      6.571429     6.428571\n",
       "7          F     10.000000     2.000000\n",
       "8          M     14.000000     3.000000\n",
       "9          F      6.571429     7.000000\n",
       "10         M      6.000000     9.000000"
      ]
     },
     "execution_count": 6,
     "metadata": {},
     "output_type": "execute_result"
    }
   ],
   "source": [
    "df[\"object dtype\"] = df[\"object dtype\"].replace(\"-\", np.nan).astype(\"float\")\n",
    "df.iloc[:, 0].fillna(df.iloc[:, 0].mode(), inplace=True)\n",
    "df.iloc[:, 1].fillna(df.iloc[:, 1].mean(), inplace=True)\n",
    "df.iloc[:, 2].fillna(df.iloc[:, 2].mean(), inplace=True)\n",
    "df"
   ]
  },
  {
   "cell_type": "raw",
   "id": "3aa7c374",
   "metadata": {},
   "source": [
    "Özetle; NaN ve None Python'da farklı data tipleridir. \n",
    "\n",
    "Bununla birlikte; missing value'ları tespit etme ve onları doldurma konusunda geldiğimizde pandas dataframe'leri NaN ve None'a benzer şekilde davranırlar. Bu missing value'ları elimine etmede df.fillna() fonksiyonu hem NaN için hem de  None için iş görür!"
   ]
  },
  {
   "cell_type": "markdown",
   "id": "c0c0e710",
   "metadata": {},
   "source": [
    "<a id=\"toc\"></a>\n",
    "\n",
    "### <p style=\"background-color:#9d4f8c; font-family:newtimeroman; color:#FFF9ED; font-size:175%; text-align:center; border-radius:10px 10px;\">NaN değerleri check etmenin 5 metodu</p>"
   ]
  },
  {
   "cell_type": "markdown",
   "id": "5d6704fc",
   "metadata": {},
   "source": [
    "## NaN değerleri check etmenin 5 metodu:"
   ]
  },
  {
   "cell_type": "raw",
   "id": "0569b074",
   "metadata": {},
   "source": [
    "İlk 3 yöntem build in fonksiyonlardır. Sonraki iki yöntem ise NaN değerleri özelliklerine dayanır."
   ]
  },
  {
   "cell_type": "code",
   "execution_count": 7,
   "id": "d9de188b",
   "metadata": {},
   "outputs": [
    {
     "name": "stdout",
     "output_type": "stream",
     "text": [
      "It's pd.isna : True\n"
     ]
    }
   ],
   "source": [
    "# 1. Pandas kütüphanesini kullanarak: \n",
    "\n",
    "import pandas as pd\n",
    "nan1 = float(\"nan\")\n",
    "print(f\"It's pd.isna : {pd.isna(nan1)}\")\n"
   ]
  },
  {
   "cell_type": "code",
   "execution_count": 70,
   "id": "e565c3c8",
   "metadata": {},
   "outputs": [
    {
     "name": "stdout",
     "output_type": "stream",
     "text": [
      "It's np.isnan : True\n"
     ]
    }
   ],
   "source": [
    "# 2. Numpy kütüphanesini kullanarak:\n",
    "\n",
    "import numpy as np\n",
    "nan2 = float(\"nan\")\n",
    "print(f\"It's np.isnan : {np.isnan(nan2)}\")\n"
   ]
  },
  {
   "cell_type": "code",
   "execution_count": 71,
   "id": "55252857",
   "metadata": {},
   "outputs": [
    {
     "name": "stdout",
     "output_type": "stream",
     "text": [
      "It's math.isnan : True\n"
     ]
    }
   ],
   "source": [
    "# 3. Math kütüphanesini kullanarak :\n",
    "# (The library is applicable to all real numbers. \n",
    "# cmath library can be used if dealing with complex numbers.)\n",
    "\n",
    "import math\n",
    "nan3 = float(\"nan\")\n",
    "print(f\"It's math.isnan : {math.isnan(nan3)}\")\n"
   ]
  },
  {
   "cell_type": "code",
   "execution_count": 72,
   "id": "4d8d6f3a",
   "metadata": {},
   "outputs": [
    {
     "data": {
      "text/plain": [
       "True"
      ]
     },
     "execution_count": 72,
     "metadata": {},
     "output_type": "execute_result"
    }
   ],
   "source": [
    "# 4. Kendisiyle karşılaştırarak. \n",
    "\n",
    "\"\"\" NaN değerler kendileri hakkında hiç bir şey bilmediğimiz değişik yapılardır.\n",
    "Bunlar sürekli olarak şekil değiştirirler.  \n",
    "Bu yüzen NaN değerleri kendisiyle kıyaslayamayız.\n",
    "\n",
    "NaN valueları çek etmenin yaygın bir yolu da;\n",
    "değişkenin kendisine eşit olup olmadığının kontrolüdür. \n",
    "Eğer eşit değilse o NaN değerdir.\n",
    "\"\"\"\n",
    "def isNaN(num):\n",
    "    return num != num\n",
    "\n",
    "nan4=float(\"nan\")\n",
    "isNaN(nan4)\n"
   ]
  },
  {
   "cell_type": "code",
   "execution_count": 73,
   "id": "0c2c3a8d",
   "metadata": {},
   "outputs": [
    {
     "data": {
      "text/plain": [
       "True"
      ]
     },
     "execution_count": 73,
     "metadata": {},
     "output_type": "execute_result"
    }
   ],
   "source": [
    "# 5. Range’i kontrol etme:\n",
    "\n",
    "\"\"\" Tüm float değerler eksi sonsuz ile + sonsuz  arasındadır.\n",
    "\n",
    "infinity < any number< infinity\n",
    "\n",
    "Ancaaak. NaN değerler bu aralık içinde değildir!!!\n",
    "Bu nedenle değer eğer eksi sonsuz ile sonsuz arasına düşmüyor ise NaN valuedur.\"\"\"\n",
    "\n",
    "def isNaN(num):\n",
    "    if float('-inf') < float(num) < float('inf'):\n",
    "        return False \n",
    "    else:\n",
    "        return True\n",
    "\n",
    "nan5 = float(\"nan\")\n",
    "isNaN(nan5)\n"
   ]
  },
  {
   "cell_type": "code",
   "execution_count": 15,
   "id": "99650d7a",
   "metadata": {},
   "outputs": [
    {
     "data": {
      "text/plain": [
       "nan"
      ]
     },
     "execution_count": 15,
     "metadata": {},
     "output_type": "execute_result"
    }
   ],
   "source": [
    "float(np.nan)\n",
    "# NaN'ın float değeri nan'dır."
   ]
  },
  {
   "cell_type": "code",
   "execution_count": 10,
   "id": "5dc57305",
   "metadata": {},
   "outputs": [
    {
     "data": {
      "text/plain": [
       "False"
      ]
     },
     "execution_count": 10,
     "metadata": {},
     "output_type": "execute_result"
    }
   ],
   "source": [
    "float(np.nan) > 0\n",
    "\n",
    "# NaN'lar sıfırdan büyük değerler değildir."
   ]
  },
  {
   "cell_type": "code",
   "execution_count": 12,
   "id": "e876f56b",
   "metadata": {},
   "outputs": [
    {
     "data": {
      "text/plain": [
       "False"
      ]
     },
     "execution_count": 12,
     "metadata": {},
     "output_type": "execute_result"
    }
   ],
   "source": [
    "float(np.nan) <= 0\n",
    "# NaN'lar sıfır veya sıfırdan küçük değer değildir."
   ]
  },
  {
   "cell_type": "code",
   "execution_count": 14,
   "id": "76a36035",
   "metadata": {},
   "outputs": [
    {
     "data": {
      "text/plain": [
       "False"
      ]
     },
     "execution_count": 14,
     "metadata": {},
     "output_type": "execute_result"
    }
   ],
   "source": [
    "float('-inf') < float(np.nan) < float('inf')\n",
    "# NaN'lar eksi sonsuz ile artı sonsuz arasında bir değer değildir."
   ]
  }
 ],
 "metadata": {
  "kernelspec": {
   "display_name": "Python 3 (ipykernel)",
   "language": "python",
   "name": "python3"
  },
  "language_info": {
   "codemirror_mode": {
    "name": "ipython",
    "version": 3
   },
   "file_extension": ".py",
   "mimetype": "text/x-python",
   "name": "python",
   "nbconvert_exporter": "python",
   "pygments_lexer": "ipython3",
   "version": "3.9.12"
  }
 },
 "nbformat": 4,
 "nbformat_minor": 5
}
