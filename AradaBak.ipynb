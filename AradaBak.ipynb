{
 "cells": [
  {
   "cell_type": "code",
   "execution_count": null,
   "metadata": {
    "colab": {
     "base_uri": "https://localhost:8080/"
    },
    "executionInfo": {
     "elapsed": 312,
     "status": "ok",
     "timestamp": 1666335938905,
     "user": {
      "displayName": "F4033-Kadir",
      "userId": "00693449641329635795"
     },
     "user_tz": -120
    },
    "id": "MMEXX_QSWJxK",
    "outputId": "0eaa5610-c5c1-4e28-affd-53f1d57c0be1"
   },
   "outputs": [
    {
     "name": "stdout",
     "output_type": "stream",
     "text": [
      "3.1463, 5.367, 7.324324\n",
      "3.15, 5.367, 7.3243\n",
      "3.1, 5.37, 7.324\n"
     ]
    }
   ],
   "source": [
    "text = \"{}, {}, {}\".format(3.1463, 5.367, 7.324324)\n",
    "print(text)\n",
    "text = \"{:.2f}, {:.3f}, {:.4f}\".format(3.1463, 5.367, 7.324324)\n",
    "print(text)\n",
    "# :.2f noktadan sonra float olarak 2 digit al, 3f 3 al... demek\n",
    "# fleri kaldiralim\n",
    "text = \"{:.2}, {:.3}, {:.4}\".format(3.1463, 5.367, 7.324324) \n",
    "print(text)"
   ]
  },
  {
   "cell_type": "code",
   "execution_count": null,
   "metadata": {
    "id": "lItST7clWPQR"
   },
   "outputs": [],
   "source": []
  },
  {
   "cell_type": "code",
   "execution_count": null,
   "metadata": {
    "colab": {
     "base_uri": "https://localhost:8080/"
    },
    "executionInfo": {
     "elapsed": 388,
     "status": "ok",
     "timestamp": 1666336044995,
     "user": {
      "displayName": "F4033-Kadir",
      "userId": "00693449641329635795"
     },
     "user_tz": -120
    },
    "id": "CE4nH7TyW1hl",
    "outputId": "97044cb9-1726-4ca0-d173-49ecd84b7c3b"
   },
   "outputs": [
    {
     "name": "stdout",
     "output_type": "stream",
     "text": [
      "a3, 5.b, 7.32\n",
      "a3, 5.b, 7.32\n"
     ]
    }
   ],
   "source": [
    "text = \"{:.2s}, {:.3s}, {:.4s}\".format(\"a3.1463\", \"5.b367\", \"7.324324\")  # s ile string yapalım bu sefer\n",
    "print(text)  # stringde kaç yazdıysak o kadar index alır. nokta da dahil.\n",
    "text = \"{:.2}, {:.3}, {:.4}\".format(\"a3.1463\", \"5.b367\", \"7.324324\")  # sleri kaldırsak da olur.\n",
    "print(text)"
   ]
  },
  {
   "cell_type": "code",
   "execution_count": null,
   "metadata": {
    "colab": {
     "base_uri": "https://localhost:8080/"
    },
    "executionInfo": {
     "elapsed": 384,
     "status": "ok",
     "timestamp": 1666336083426,
     "user": {
      "displayName": "F4033-Kadir",
      "userId": "00693449641329635795"
     },
     "user_tz": -120
    },
    "id": "z1kgOYqXXjTX",
    "outputId": "3b396f2d-909e-4a18-d095-689cef2ce583"
   },
   "outputs": [
    {
     "name": "stdout",
     "output_type": "stream",
     "text": [
      "test\n",
      "      test\n",
      "test      \n",
      "        test        \n",
      "hippo     \n"
     ]
    }
   ],
   "source": [
    "text = \"{:}\".format(\"test\")\n",
    "print(text)\n",
    "text = \"{:>10}\".format(\"test\")  # bu 10 karakter icinde sola yasla demek. 6sı space sonra test\n",
    "print(text)\n",
    "text = \"{:<10}\".format(\"test\")  # bu 10 karakter icinde saga yasla demek. test sonrası 6 space var\n",
    "print(text)\n",
    "text = \"{:^20}\".format(\"test\")  # bu 20 karakter icinde ortaya yaz demek\n",
    "print(text)\n",
    "text = \"{:10.5}\".format(\"hippopotamus\")  # 10 karakterlik alanda ilk 5'ini al demek\n",
    "print(text)"
   ]
  },
  {
   "cell_type": "code",
   "execution_count": null,
   "metadata": {
    "colab": {
     "base_uri": "https://localhost:8080/"
    },
    "executionInfo": {
     "elapsed": 414,
     "status": "ok",
     "timestamp": 1666336159886,
     "user": {
      "displayName": "F4033-Kadir",
      "userId": "00693449641329635795"
     },
     "user_tz": -120
    },
    "id": "6TzF6YQLXssH",
    "outputId": "1a178b71-072c-4427-e313-2c257a079128"
   },
   "outputs": [
    {
     "name": "stdout",
     "output_type": "stream",
     "text": [
      "Welcome   # 111#924.66\n"
     ]
    }
   ],
   "source": [
    "print(format(\"Welcome\", \"10s\"), end = '#')  # 10 charlık bir alan açtı.welcome ve 3 spaces\n",
    "print(format(111, \"4d\"), end = '#')\n",
    "print(format(924.656, \"3.2f\"))"
   ]
  },
  {
   "cell_type": "code",
   "execution_count": null,
   "metadata": {
    "colab": {
     "base_uri": "https://localhost:8080/"
    },
    "executionInfo": {
     "elapsed": 385,
     "status": "ok",
     "timestamp": 1666336314215,
     "user": {
      "displayName": "F4033-Kadir",
      "userId": "00693449641329635795"
     },
     "user_tz": -120
    },
    "id": "NhrKaG8FX_WE",
    "outputId": "a6386c8e-2054-4058-9e5a-31b1177c7fb1"
   },
   "outputs": [
    {
     "name": "stdout",
     "output_type": "stream",
     "text": [
      "hi Edwin are you ill?\n"
     ]
    }
   ],
   "source": [
    "name = \"Edwin\"\n",
    "status = \"ill\"\n",
    "message = f\"hi \\\n",
    "{name} \\\n",
    "are you \\\n",
    "{status}?\"\n",
    "#  kod çok uzunsa backslash ile multiline yapabiliriz. \\ stringin içinde kaldığı için single line return eder.\n",
    "print(message)"
   ]
  },
  {
   "cell_type": "code",
   "execution_count": null,
   "metadata": {
    "colab": {
     "base_uri": "https://localhost:8080/",
     "height": 164
    },
    "executionInfo": {
     "elapsed": 10,
     "status": "error",
     "timestamp": 1666346268469,
     "user": {
      "displayName": "F4033-Kadir",
      "userId": "00693449641329635795"
     },
     "user_tz": -120
    },
    "id": "EEYhk8JNYlCy",
    "outputId": "46ecb1b2-2ede-422a-b077-df874efaef53"
   },
   "outputs": [
    {
     "ename": "NameError",
     "evalue": "ignored",
     "output_type": "error",
     "traceback": [
      "\u001b[0;31m---------------------------------------------------------------------------\u001b[0m",
      "\u001b[0;31mNameError\u001b[0m                                 Traceback (most recent call last)",
      "\u001b[0;32m<ipython-input-1-66c4bab4a6b2>\u001b[0m in \u001b[0;36m<module>\u001b[0;34m\u001b[0m\n\u001b[0;32m----> 1\u001b[0;31m \u001b[0mprint\u001b[0m\u001b[0;34m(\u001b[0m\u001b[0mtext\u001b[0m\u001b[0;34m.\u001b[0m\u001b[0mreplace\u001b[0m\u001b[0;34m(\u001b[0m\u001b[0;34m\"a\"\u001b[0m\u001b[0;34m,\u001b[0m \u001b[0;34m\"*\"\u001b[0m\u001b[0;34m,\u001b[0m \u001b[0;36m1\u001b[0m\u001b[0;34m)\u001b[0m\u001b[0;34m)\u001b[0m  \u001b[0;31m# a'yı x ile bir kere degistirir sadece. text.replace(start,stop[, count])\u001b[0m\u001b[0;34m\u001b[0m\u001b[0;34m\u001b[0m\u001b[0m\n\u001b[0m",
      "\u001b[0;31mNameError\u001b[0m: name 'text' is not defined"
     ]
    }
   ],
   "source": [
    "print(text.replace(\"a\", \"*\", 1))  # a'yı x ile bir kere degistirir sadece. text.replace(start,stop[, count])"
   ]
  },
  {
   "cell_type": "code",
   "execution_count": null,
   "metadata": {
    "colab": {
     "base_uri": "https://localhost:8080/"
    },
    "executionInfo": {
     "elapsed": 318,
     "status": "ok",
     "timestamp": 1666377452771,
     "user": {
      "displayName": "F4033-Kadir",
      "userId": "00693449641329635795"
     },
     "user_tz": -120
    },
    "id": "hsIomT4Y-foZ",
    "outputId": "731eb00e-c6c0-4689-a3d8-413b1e67fd99"
   },
   "outputs": [
    {
     "name": "stdout",
     "output_type": "stream",
     "text": [
      "True\n",
      "True\n",
      "False\n",
      "True\n",
      "True\n",
      "True\n"
     ]
    }
   ],
   "source": [
    "# leap year: 4le bölünür. 100le bölünmez ama 400e bölünürse olur. year: input yaptık kabul edelim\n",
    "year= 1920\n",
    "\n",
    "leap = (year % 4 == 0) and (year % 100 != 0 or year % 400 == 0)\n",
    "print(year % 4 == 0)\n",
    "print(year % 100 != 0)\n",
    "print(year % 400 == 0)\n",
    "print(leap)\n",
    "# şöyle de yazabiliriz bunu\n",
    "leap_year = (year % 4 == 0) and bool((year % 100) or not (year % 400))\n",
    "print(leap_year)\n",
    "# ya da \n",
    "leap_year2 = bool(not (year % 4) and ((year % 100) or not (year % 400)))\n",
    "print(leap_year2)\n"
   ]
  },
  {
   "cell_type": "code",
   "execution_count": null,
   "metadata": {
    "colab": {
     "base_uri": "https://localhost:8080/"
    },
    "executionInfo": {
     "elapsed": 311,
     "status": "ok",
     "timestamp": 1666378310434,
     "user": {
      "displayName": "F4033-Kadir",
      "userId": "00693449641329635795"
     },
     "user_tz": -120
    },
    "id": "oFVFSZFk01kx",
    "outputId": "5c92f8fb-1da4-4cf5-a0c1-9125a22f4b69"
   },
   "outputs": [
    {
     "name": "stdout",
     "output_type": "stream",
     "text": [
      "0 False\n",
      "1 True\n",
      "9 is an odd number   and it can be divided into 3\n"
     ]
    }
   ],
   "source": [
    "# Task 3: girilen sayının tek veya çift olma durumunu, \n",
    "# ayrıca bu sayının 3'e bölünüp bölünememe durumunu ekrana şu şekilde yazdıran bir program yazınız\n",
    "\n",
    "text1 = \"is an odd number\"\n",
    "text2 = \"is an even number\"\n",
    "text3 = \"and it can not be divided into 3\"\n",
    "text4 = \"and it can be divided into 3\"\n",
    "sayı = 9\n",
    "print((8 % 2), bool(8%2))  # bu ikisini mantigi anlamak icin girdim. sorudan bagimsiz.\n",
    "print((7 % 2), bool(7%2))  # # 'sayı' * 1 sayı'yı return eder. 'sayı' * 0 boş return eder.\n",
    "int(bool(sayı % 2)) * text1  # girilen sayı çiftse modulusu 0, boolu F ve int.ı da 0 olur ve text1i yok eder. tekse 1 olur text korunur\n",
    "int(not bool(sayı % 2)) * text2  # bir de not'lı yazıyoruzki eğer çiftse yukarı yok olursa burada text 1le korunup kalsın\n",
    "int(bool(sayı % 3)) * text3  #3e tam bölünürse 0 carpi text 3 yok olur. tam bölünmezse text kalır\n",
    "int(not bool(sayı % 3))* text4  # 3e tam bölünürse not 0'ı 1 yapar ve 1 çarpı text kalır, tam bölünmezse kalan 1 not'la 0 olur ve text gider\n",
    "print(f\"{sayı}\", f\"{int(bool(sayı % 2)) * text1}\", f\"{int(not bool(sayı % 2)) * text2}\",\n",
    "     f\"{int(bool(sayı % 3)) * text3}\", f\"{int(not bool(sayı % 3))* text4}\")"
   ]
  },
  {
   "cell_type": "code",
   "execution_count": null,
   "metadata": {
    "colab": {
     "base_uri": "https://localhost:8080/"
    },
    "executionInfo": {
     "elapsed": 3797,
     "status": "ok",
     "timestamp": 1666380483331,
     "user": {
      "displayName": "F4033-Kadir",
      "userId": "00693449641329635795"
     },
     "user_tz": -120
    },
    "id": "llOGmVix5BSU",
    "outputId": "10b8a46c-4066-46a4-e010-4e57cd618490"
   },
   "outputs": [
    {
     "name": "stdout",
     "output_type": "stream",
     "text": [
      "Enter a number : 22\n",
      "is an even number\n",
      "\n",
      "\n",
      "and it can not be divided into 4.\n",
      "22 is an even number   and it can not be divided into 4.\n"
     ]
    }
   ],
   "source": [
    "# kullanıcıdan aldığın bir sayı çift sayı mı ve 4 ile tam bölünüyor mu\n",
    "\n",
    "number = int(input(\"Enter a number : \"))\n",
    "\n",
    "even_no = \"is an even number\"\n",
    "print(int(number % 2 == 0) * even_no)\n",
    "not_even = \"is not an even number\"\n",
    "print(int(not bool(number % 2 == 0)) * not_even)\n",
    "div4 = \"and it can be divided into 4.\"\n",
    "print(int(number % 4 == 0) * div4)\n",
    "not_div4 = \"and it can not be divided into 4.\"\n",
    "print(int(not bool(number % 4 == 0)) * not_div4)\n",
    "print(\n",
    "    f\"{number}\", f\"{int(number % 2 == 0) * even_no}\", \\\n",
    "    f\"{int(not bool(number % 2 == 0)) * not_even}\", \\\n",
    "    f\"{int(number % 4 == 0) * div4}\", \\\n",
    "    f\"{int(not bool(number % 4 == 0)) * not_div4}\"\n",
    "    )"
   ]
  },
  {
   "cell_type": "code",
   "execution_count": null,
   "metadata": {
    "colab": {
     "base_uri": "https://localhost:8080/"
    },
    "executionInfo": {
     "elapsed": 239,
     "status": "ok",
     "timestamp": 1666380762703,
     "user": {
      "displayName": "F4033-Kadir",
      "userId": "00693449641329635795"
     },
     "user_tz": -120
    },
    "id": "seu51ecjBSzw",
    "outputId": "a8b9ad24-8edc-4e83-a537-10ef024ad668"
   },
   "outputs": [
    {
     "name": "stdout",
     "output_type": "stream",
     "text": [
      "25  is not an even number  and it can not be divided into 4.\n"
     ]
    }
   ],
   "source": [
    "number = 25\n",
    "print(\n",
    "    f\"{number}\", f\"{int(not bool(number % 2)) * even_no}\", \\\n",
    "    f\"{int(bool(number % 2)) * not_even}\", \\\n",
    "    f\"{int(not bool(number % 4)) * div4}\", \\\n",
    "    f\"{int(bool(number % 4)) * not_div4}\"\n",
    "    )"
   ]
  },
  {
   "cell_type": "code",
   "execution_count": null,
   "metadata": {
    "colab": {
     "base_uri": "https://localhost:8080/"
    },
    "executionInfo": {
     "elapsed": 272,
     "status": "ok",
     "timestamp": 1666378502792,
     "user": {
      "displayName": "F4033-Kadir",
      "userId": "00693449641329635795"
     },
     "user_tz": -120
    },
    "id": "NQ9lxq7j2ntK",
    "outputId": "98b8016d-c54d-4e9c-c35a-ee0ed625ad60"
   },
   "outputs": [
    {
     "name": "stdout",
     "output_type": "stream",
     "text": [
      "3.141592653589793\n",
      "78.53981633974483\n",
      "78.53981633974483\n"
     ]
    }
   ],
   "source": [
    "# Task 4: Dairenin alanını \"math\" kütüphanesi ile hesaplayan kod:\n",
    "\n",
    "r = 5\n",
    "import math  # matematik python kütüphanesi\n",
    "print(math.pi)\n",
    "area = math.pi * r ** 2\n",
    "print(area)\n",
    "# math library'de power da var\n",
    "area2 = math.pi * pow(r, 2)\n",
    "print(area2)"
   ]
  },
  {
   "cell_type": "code",
   "execution_count": null,
   "metadata": {
    "colab": {
     "base_uri": "https://localhost:8080/"
    },
    "executionInfo": {
     "elapsed": 5,
     "status": "ok",
     "timestamp": 1666646185594,
     "user": {
      "displayName": "F4033-Kadir",
      "userId": "00693449641329635795"
     },
     "user_tz": -120
    },
    "id": "TZ_6xCA6_TkF",
    "outputId": "201a7592-ac0a-409c-e3c1-9b07c50d166d"
   },
   "outputs": [
    {
     "name": "stdout",
     "output_type": "stream",
     "text": [
      "[17, 16, 15, 14] [13, 12, 11, 10] [9, 8, 7, 6] [5, 4, 3, 2, 1]\n"
     ]
    }
   ],
   "source": [
    "# Aşağıdaki liste içerisindeki her bir listeyi tersine çevirecek bir program yazınız.\n",
    "\n",
    "liste = [[1, 2, 3, 4, 5], [6, 7, 8, 9], [10, 11, 12, 13], [14, 15, 16, 17]]\n",
    "liste.reverse()\n",
    "print(liste[0][::-1], liste[1][::-1],liste[2][::-1],liste[3][::-1])"
   ]
  },
  {
   "cell_type": "code",
   "execution_count": null,
   "metadata": {
    "colab": {
     "base_uri": "https://localhost:8080/"
    },
    "executionInfo": {
     "elapsed": 502,
     "status": "ok",
     "timestamp": 1666770119160,
     "user": {
      "displayName": "F4033-Kadir",
      "userId": "00693449641329635795"
     },
     "user_tz": -120
    },
    "id": "u7YCYiim2lJM",
    "outputId": "19a181e9-bc93-4e4a-faca-b638a51ed771"
   },
   "outputs": [
    {
     "name": "stdout",
     "output_type": "stream",
     "text": [
      "[[5, 4, 3, 2, 1], [6, 7, 8, 9], [10, 11, 12, 13], [14, 15, 16, 17]]\n"
     ]
    }
   ],
   "source": [
    "liste = [[1, 2, 3, 4, 5], [6, 7, 8, 9], [10, 11, 12, 13], [14, 15, 16, 17]]\n",
    "liste[0].reverse()\n",
    "print(liste)"
   ]
  },
  {
   "cell_type": "code",
   "execution_count": null,
   "metadata": {
    "id": "DmgGXUZmQtXJ"
   },
   "outputs": [],
   "source": []
  },
  {
   "cell_type": "code",
   "execution_count": null,
   "metadata": {
    "colab": {
     "base_uri": "https://localhost:8080/"
    },
    "executionInfo": {
     "elapsed": 359,
     "status": "ok",
     "timestamp": 1666775296714,
     "user": {
      "displayName": "F4033-Kadir",
      "userId": "00693449641329635795"
     },
     "user_tz": -120
    },
    "id": "6ZljxbSEOoEv",
    "outputId": "060bd9cb-0c58-4320-b09c-c91f3de5d4b7"
   },
   "outputs": [
    {
     "name": "stdout",
     "output_type": "stream",
     "text": [
      "1235\n",
      "1234.57\n",
      "1235\n",
      "1235.0\n"
     ]
    }
   ],
   "source": [
    "totalprofit= 1234.567\n",
    "print(round(totalprofit))\n",
    "print(round(totalprofit, 2))\n",
    "totalprofit= 1234.9999\n",
    "print(round(totalprofit))\n",
    "print(round(totalprofit, 2))"
   ]
  },
  {
   "cell_type": "code",
   "execution_count": 1,
   "metadata": {
    "colab": {
     "base_uri": "https://localhost:8080/",
     "height": 37
    },
    "executionInfo": {
     "elapsed": 9,
     "status": "ok",
     "timestamp": 1667585793687,
     "user": {
      "displayName": "F4033-Kadir",
      "userId": "00693449641329635795"
     },
     "user_tz": -60
    },
    "id": "HxWC69BniyCa",
    "outputId": "49c724d7-d7fc-439c-a793-3f406fb2b9da"
   },
   "outputs": [
    {
     "data": {
      "application/vnd.google.colaboratory.intrinsic+json": {
       "type": "string"
      },
      "text/plain": [
       "\"dlo sraey 92 m'I dna nahrime si eman ym\""
      ]
     },
     "execution_count": 1,
     "metadata": {},
     "output_type": "execute_result"
    }
   ],
   "source": [
    "def reverse_string(str):  \n",
    "    str1 = \"\" \n",
    "    for i in str:  \n",
    "        str1 = i+str1 \n",
    "    return str1 \n",
    "\n",
    "reverse_string(\"my name is emirhan and I'm 29 years old\")"
   ]
  },
  {
   "cell_type": "code",
   "execution_count": 2,
   "metadata": {
    "colab": {
     "base_uri": "https://localhost:8080/"
    },
    "executionInfo": {
     "elapsed": 4,
     "status": "ok",
     "timestamp": 1667585798849,
     "user": {
      "displayName": "F4033-Kadir",
      "userId": "00693449641329635795"
     },
     "user_tz": -60
    },
    "id": "zgG34ZeC2537",
    "outputId": "c61067e9-fedd-478b-cf4d-2db2b47e9cfc"
   },
   "outputs": [
    {
     "name": "stdout",
     "output_type": "stream",
     "text": [
      "dlo sraey 92 m'I dna temhA si eman ym\n"
     ]
    }
   ],
   "source": [
    "cumle = \"my name is Ahmet and I'm 29 years old\"\n",
    "cumle1= \"\"\n",
    "for i in cumle:  \n",
    "    cumle1 = i + cumle1 \n",
    "print(cumle1)"
   ]
  },
  {
   "cell_type": "code",
   "execution_count": 3,
   "metadata": {
    "colab": {
     "base_uri": "https://localhost:8080/"
    },
    "executionInfo": {
     "elapsed": 5,
     "status": "ok",
     "timestamp": 1667585813139,
     "user": {
      "displayName": "F4033-Kadir",
      "userId": "00693449641329635795"
     },
     "user_tz": -60
    },
    "id": "p5yrvYIz2-lP",
    "outputId": "541a275c-4096-40c2-ea24-872d8932bec4"
   },
   "outputs": [
    {
     "name": "stdout",
     "output_type": "stream",
     "text": [
      "['old', 'years', '29', \"I'm\", 'and', 'Ahmet', 'is', 'name', 'my']\n",
      "['old', 'years', '29', \"I'm\", 'and', 'Ahmet', 'is', 'name', 'my']\n",
      "old years 29 I'm and Ahmet is name my\n"
     ]
    }
   ],
   "source": [
    "cumle = \"my name is Ahmet and I'm 29 years old\"\n",
    "s = cumle.split()[::-1]\n",
    "print(s)  # splitin ne yaptıgını bu printte gorelim\n",
    "l = []\n",
    "for i in s:\n",
    "\n",
    "    l.append(i)\n",
    "print(l)  # for dongusu ile olusan yeni listeyi bu printle gorelim\n",
    "    \n",
    "print(\" \".join(l))  # join fonksiyonu splitin tam tersine bir listi bir araya getirir ve stringe cevirir"
   ]
  },
  {
   "cell_type": "code",
   "execution_count": 1,
   "metadata": {
    "id": "JRBHXGrx3BpS"
   },
   "outputs": [
    {
     "name": "stdout",
     "output_type": "stream",
     "text": [
      "@4k,k}lg\n",
      "T;bMd_fZ\n"
     ]
    }
   ],
   "source": [
    "import random\n",
    "import string\n",
    " \n",
    "def rastgele_sifre_uret(uzunluk):\n",
    "    harfler =  string.ascii_letters + string.digits + string.punctuation \n",
    "    sonuc = ''.join(random.choice(harfler) for i in range(uzunluk))\n",
    "    return sonuc\n",
    " \n",
    "#test\n",
    "print(rastgele_sifre_uret(8))\n",
    "print(rastgele_sifre_uret(8))"
   ]
  },
  {
   "cell_type": "code",
   "execution_count": null,
   "metadata": {},
   "outputs": [],
   "source": []
  }
 ],
 "metadata": {
  "accelerator": "GPU",
  "colab": {
   "authorship_tag": "ABX9TyNsNMSrmxLPHkK+TVSbIvuW",
   "collapsed_sections": [],
   "provenance": []
  },
  "kernelspec": {
   "display_name": "Python 3 (ipykernel)",
   "language": "python",
   "name": "python3"
  },
  "language_info": {
   "codemirror_mode": {
    "name": "ipython",
    "version": 3
   },
   "file_extension": ".py",
   "mimetype": "text/x-python",
   "name": "python",
   "nbconvert_exporter": "python",
   "pygments_lexer": "ipython3",
   "version": "3.9.12"
  }
 },
 "nbformat": 4,
 "nbformat_minor": 4
}
