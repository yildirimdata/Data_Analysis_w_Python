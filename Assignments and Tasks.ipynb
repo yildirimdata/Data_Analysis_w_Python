{
 "cells": [
  {
   "cell_type": "code",
   "execution_count": 1,
   "metadata": {
    "colab": {
     "base_uri": "https://localhost:8080/"
    },
    "executionInfo": {
     "elapsed": 1121,
     "status": "ok",
     "timestamp": 1665348409291,
     "user": {
      "displayName": "Kadir Yildirim",
      "userId": "13737539335352108231"
     },
     "user_tz": -120
    },
    "id": "foqI22QFMJVX",
    "outputId": "11481ff1-98c4-4262-d230-dcf23aefc9b6"
   },
   "outputs": [
    {
     "name": "stdout",
     "output_type": "stream",
     "text": [
      "Clarusway, Clarusway, Clarusway, \n",
      "\t Clarusway, Clarusway, Clarusway, \n",
      "\t\t Clarusway, Clarusway,  Clarusway,"
     ]
    }
   ],
   "source": [
    "text = \"Clarusway, \"\n",
    "print(3* text)\n",
    "print('\\t', 3* text)\n",
    "print('\\t' '\\t', 2*text, text, end='\\b')"
   ]
  },
  {
   "cell_type": "code",
   "execution_count": 2,
   "metadata": {
    "colab": {
     "base_uri": "https://localhost:8080/"
    },
    "executionInfo": {
     "elapsed": 49,
     "status": "ok",
     "timestamp": 1665348410423,
     "user": {
      "displayName": "Kadir Yildirim",
      "userId": "13737539335352108231"
     },
     "user_tz": -120
    },
    "id": "T4DsBOKZMzmR",
    "outputId": "a77379f0-f532-49de-a022-193bc5bbf9be"
   },
   "outputs": [
    {
     "name": "stdout",
     "output_type": "stream",
     "text": [
      "Clarusway, Clarusway, Clarusway, \n",
      "\t Clarusway, Clarusway, Clarusway, \n",
      "\t\t Clarusway, Clarusway, Clarusway"
     ]
    }
   ],
   "source": [
    "text = \"Clarusway, Clarusway, Clarusway,\"\n",
    "print(text, \"\\n\\t\",text, \"\\n\\t\\t\",text, end=\"\\b\")"
   ]
  },
  {
   "cell_type": "code",
   "execution_count": 3,
   "metadata": {
    "colab": {
     "base_uri": "https://localhost:8080/"
    },
    "executionInfo": {
     "elapsed": 47,
     "status": "ok",
     "timestamp": 1665348410424,
     "user": {
      "displayName": "Kadir Yildirim",
      "userId": "13737539335352108231"
     },
     "user_tz": -120
    },
    "id": "WY7dYP1NSeyT",
    "outputId": "6c5fb328-a172-4f53-9581-0fa6a5af545c"
   },
   "outputs": [
    {
     "name": "stdout",
     "output_type": "stream",
     "text": [
      "Clarusway,Clarusway,Clarusway, \n",
      " \t Clarusway,Clarusway,Clarusway, \n",
      "\t\t Clarusway,Clarusway,Clarusway\n"
     ]
    }
   ],
   "source": [
    "text = \"Clarusway,\"\n",
    "print(text *3, \"\\n\", \"\\t\", text *3, \"\\n\\t\\t\", text *2, \"\\b\" \"Clarusway\")\n"
   ]
  },
  {
   "cell_type": "markdown",
   "metadata": {
    "id": "tmhLGbHfVTeC"
   },
   "source": [
    "Q: If you had deposited a coin on the cryptocurrency exchange that brought 7% fixed profit daily for a week, how much would your $ 1000 reach at the end of the 7th day?"
   ]
  },
  {
   "cell_type": "code",
   "execution_count": 4,
   "metadata": {
    "colab": {
     "base_uri": "https://localhost:8080/"
    },
    "executionInfo": {
     "elapsed": 42,
     "status": "ok",
     "timestamp": 1665348410424,
     "user": {
      "displayName": "Kadir Yildirim",
      "userId": "13737539335352108231"
     },
     "user_tz": -120
    },
    "id": "ysJUoz6tVVCv",
    "outputId": "66e84d00-499c-476d-8b1a-ac8ef7b3946c"
   },
   "outputs": [
    {
     "name": "stdout",
     "output_type": "stream",
     "text": [
      "1605.78147647843\n",
      "1605\n",
      "If I had deposited a coin on the cryptocurrency exchange that brought 7% fixed profit daily for a week, my $ 1000 would reach $ 1605 at the end of the seventh day.\n"
     ]
    }
   ],
   "source": [
    "capital = 1000\n",
    "interest = 0.07\n",
    "day1 = capital + (capital * interest)\n",
    "day2 = day1 + (day1 * interest)\n",
    "day3 = day2 + (day2 * interest)\n",
    "day4 = day3 + (day3 * interest)\n",
    "day5 = day4 + (day4 * interest)\n",
    "day6 = day5 + (day5 * interest)\n",
    "day7 = day6 + (day6 * interest)\n",
    "print(day7)\n",
    "print(int(day7))\n",
    "print(\"If I had deposited a coin on the cryptocurrency exchange that brought 7% \\\n",
    "fixed profit daily for a week, my $\", capital, \"would reach $\", int(day7), \"at \\\n",
    "the end of the seventh day.\")"
   ]
  },
  {
   "cell_type": "code",
   "execution_count": 1,
   "metadata": {},
   "outputs": [
    {
     "name": "stdout",
     "output_type": "stream",
     "text": [
      "1605.7814764784307\n"
     ]
    }
   ],
   "source": [
    "capital = 1000\n",
    "capital = capital * 1.07  # pazartesi\n",
    "capital = capital * 1.07\n",
    "capital = capital * 1.07\n",
    "capital = capital * 1.07\n",
    "capital = capital * 1.07\n",
    "capital = capital * 1.07\n",
    "capital = capital * 1.07  # pazar\n",
    "print(capital)"
   ]
  },
  {
   "cell_type": "code",
   "execution_count": 2,
   "metadata": {},
   "outputs": [
    {
     "name": "stdout",
     "output_type": "stream",
     "text": [
      "1605.7814764784307\n"
     ]
    }
   ],
   "source": [
    "capital = 1000\n",
    "capital = capital * 1.07 ** 7\n",
    "print(capital)"
   ]
  },
  {
   "cell_type": "markdown",
   "metadata": {},
   "source": [
    "Q:  Estimating the risk of death from coronavirus.\n",
    "\n",
    "Consider the following questions in terms of True/False regarding someone else.\n",
    "\n",
    "Are you a cigarette addict older than 75 years old? Variable → age\n",
    "\n",
    "Do you have a severe chronic disease? Variable → chronic\n",
    "\n",
    "Is your immune system too weak? Variable → immune\n",
    "\n",
    "Set a logical algorithm using boolean logic operators (and/or) and the given variables in order to give us True (there is a risk of death) or False (there is not a risk of death) as a result."
   ]
  },
  {
   "cell_type": "code",
   "execution_count": null,
   "metadata": {},
   "outputs": [],
   "source": []
  },
  {
   "cell_type": "code",
   "execution_count": 5,
   "metadata": {
    "colab": {
     "base_uri": "https://localhost:8080/"
    },
    "executionInfo": {
     "elapsed": 40128,
     "status": "ok",
     "timestamp": 1665348450547,
     "user": {
      "displayName": "Kadir Yildirim",
      "userId": "13737539335352108231"
     },
     "user_tz": -120
    },
    "id": "QsaiZf9AVltl",
    "outputId": "dba36c0a-e73b-414c-e41a-c0c19b9acfb4"
   },
   "outputs": [
    {
     "name": "stdin",
     "output_type": "stream",
     "text": [
      "Are you a cigarette addict older than 75 years old:  No\n",
      "Do you have a severe chronic disease:  Yes\n",
      "Is your immune system too weak:  No\n"
     ]
    }
   ],
   "source": [
    "age = input(\"Are you a cigarette addict older than 75 years old: \")\n",
    "chronic = input(\"Do you have a severe chronic disease: \")\n",
    "immune = input(\"Is your immune system too weak: \")"
   ]
  },
  {
   "cell_type": "code",
   "execution_count": 4,
   "metadata": {},
   "outputs": [
    {
     "name": "stdin",
     "output_type": "stream",
     "text": [
      "Are you a cigarette addict older than 75 years old? (Yes 1, No 0) 1\n",
      "Do you have a severe chronic disease: (Yes 1, No 0) 0\n",
      "Is your immune system too weak: (Yes 1, No 0) 1\n"
     ]
    },
    {
     "name": "stdout",
     "output_type": "stream",
     "text": [
      "True\n"
     ]
    }
   ],
   "source": [
    "age = bool(int(input(\"Are you a cigarette addict older than 75 years old? (Yes 1, No 0)\")))\n",
    "chronic = bool(int(input(\"Do you have a severe chronic disease: (Yes 1, No 0)\")))\n",
    "immune = bool(int(input(\"Is your immune system too weak: (Yes 1, No 0)\")))\n",
    "\n",
    "risk = age or chronic or immune\n",
    "print(risk)"
   ]
  },
  {
   "cell_type": "code",
   "execution_count": 6,
   "metadata": {},
   "outputs": [
    {
     "name": "stdout",
     "output_type": "stream",
     "text": [
      "True\n"
     ]
    }
   ],
   "source": [
    "age = False\n",
    "chronic = True\n",
    "immune = False\n",
    "\n",
    "risk = age or chronic or immune\n",
    "print(risk)"
   ]
  },
  {
   "cell_type": "code",
   "execution_count": 3,
   "metadata": {},
   "outputs": [
    {
     "name": "stdout",
     "output_type": "stream",
     "text": [
      " Even if you are younger than 75 years old and have a strong immune system, \n",
      "if you are suffering from a chronic disease, \n",
      "this means you are under a high risk of death from Coronavirus. \n",
      "Please be careful and pay attention to the precautions declared by the authorities!\n"
     ]
    }
   ],
   "source": [
    "print(\"\"\" Even if you are younger than 75 years old and have a strong immune system, \n",
    "if you are suffering from a chronic disease, \n",
    "this means you are under a high risk of death from Coronavirus. \n",
    "Please be careful and pay attention to the precautions declared by the authorities!\"\"\")"
   ]
  },
  {
   "cell_type": "markdown",
   "metadata": {},
   "source": [
    "Q : Write a short Python program that asks the user to enter Celsius temperature (it can be a decimal number), converts the entered temperature into Fahrenheit degree and prints the result."
   ]
  },
  {
   "cell_type": "code",
   "execution_count": 8,
   "metadata": {
    "tags": []
   },
   "outputs": [
    {
     "name": "stdin",
     "output_type": "stream",
     "text": [
      "Enter the Celcius temperature :  25\n"
     ]
    }
   ],
   "source": [
    "temp_c = float(input(\"Enter the Celcius temperature : \"))"
   ]
  },
  {
   "cell_type": "code",
   "execution_count": 9,
   "metadata": {},
   "outputs": [
    {
     "name": "stdout",
     "output_type": "stream",
     "text": [
      "77.0\n",
      "25.0 grad temperature in Celcius is equal to 77.0 grad temperature in Fahrenheit.\n"
     ]
    }
   ],
   "source": [
    "# Formular of the conversion from Celcius to Fahrenheit is: F = C * (9/5) + 32\n",
    "temp_f = temp_c * (9/5) + 32\n",
    "print(temp_f)\n",
    "print(temp_c, \"grad temperature in Celcius is equal to\", temp_f, \"grad temperature in Fahrenheit.\")"
   ]
  },
  {
   "cell_type": "markdown",
   "metadata": {},
   "source": [
    "Q: Write a short Python program that asks the user to enter a distance (it can be a decimal number) in kilometers, converts the entered distance into miles and prints the result."
   ]
  },
  {
   "cell_type": "code",
   "execution_count": 7,
   "metadata": {},
   "outputs": [
    {
     "name": "stdin",
     "output_type": "stream",
     "text": [
      "Enter the distance from Istanbul to Ankara in km :  445\n"
     ]
    }
   ],
   "source": [
    "distance_km = float(input(\"Enter the distance from Istanbul to Ankara in km : \"))"
   ]
  },
  {
   "cell_type": "code",
   "execution_count": 11,
   "metadata": {},
   "outputs": [
    {
     "name": "stdout",
     "output_type": "stream",
     "text": [
      "276.52\n",
      "445.0 km distance from Istanbul to Ankara is equal to 276.52 miles.\n"
     ]
    }
   ],
   "source": [
    "# formula of converting from km to miles is: miles = km * 0.6214\n",
    "distance_mile = (distance_km * 0.6214)\n",
    "print(round(distance_mile, 2)) \n",
    "# how to round numbers in python\n",
    "print(distance_km, \"km distance from Istanbul to Ankara is equal to\", round(distance_mile, 2), \"miles.\")"
   ]
  },
  {
   "cell_type": "code",
   "execution_count": 20,
   "metadata": {},
   "outputs": [
    {
     "name": "stdout",
     "output_type": "stream",
     "text": [
      "write me\n"
     ]
    }
   ],
   "source": [
    "print(not 0 and \"write me\")"
   ]
  },
  {
   "cell_type": "markdown",
   "metadata": {},
   "source": [
    "Q: Find out if a given year is a \"leap\" year.\n",
    "\n",
    "In the Gregorian calendar, three criteria must be taken into account to identify leap years:\n",
    "    \n",
    "The year must be evenly divisible by 4;\n",
    "If the year can also be evenly divided by 100, it is not a leap year; unless...\n",
    "The year is also evenly divisible by 400. Then it is a leap year.\n",
    "According to these rules, the years 2000 and 2400 are leap years, while 1800, 1900, \n",
    "2100, 2200, 2300, and 2500 are not the leap years.\n",
    "\n",
    "Write a Python program that;\n",
    "Takes a 4-digit year from the user,\n",
    "Prints True if the given year by the user is a leap year, prints False otherwise."
   ]
  },
  {
   "cell_type": "code",
   "execution_count": 3,
   "metadata": {},
   "outputs": [
    {
     "name": "stdin",
     "output_type": "stream",
     "text": [
      "Enter your year of birth to learn if you were born in a leap year :  1981\n"
     ]
    },
    {
     "name": "stdout",
     "output_type": "stream",
     "text": [
      "False\n"
     ]
    }
   ],
   "source": [
    "user_year = int(input(\"Enter your year of birth to learn if you were born in a leap year : \"))\n",
    "leap = (user_year % 4 == 0) and (user_year % 100 != 0 or year % 400 == 0) \n",
    "print(leap) "
   ]
  },
  {
   "cell_type": "code",
   "execution_count": 5,
   "metadata": {},
   "outputs": [
    {
     "name": "stdin",
     "output_type": "stream",
     "text": [
      "Enter your year of birth to learn if you were born in a leap year :  2000\n"
     ]
    },
    {
     "name": "stdout",
     "output_type": "stream",
     "text": [
      "True\n"
     ]
    }
   ],
   "source": [
    "user_year = int(input(\"Enter your year of birth to learn if you were born in a leap year : \"))\n",
    "leap = (user_year % 4 == 0) and bool((user_year % 100) or not (user_year % 400)) \n",
    "print(leap) "
   ]
  },
  {
   "cell_type": "code",
   "execution_count": 6,
   "metadata": {},
   "outputs": [
    {
     "name": "stdin",
     "output_type": "stream",
     "text": [
      "Enter your year of birth to learn if you were born in a leap year :  2020\n"
     ]
    },
    {
     "name": "stdout",
     "output_type": "stream",
     "text": [
      "True\n"
     ]
    }
   ],
   "source": [
    "user_year = int(input(\"Enter your year of birth to learn if you were born in a leap year : \"))\n",
    "leap = bool(not(user_year % 4) and ((user_year % 100) or not (user_year % 400))) \n",
    "print(leap) "
   ]
  },
  {
   "cell_type": "code",
   "execution_count": 7,
   "metadata": {},
   "outputs": [
    {
     "name": "stdout",
     "output_type": "stream",
     "text": [
      "%s\n"
     ]
    }
   ],
   "source": [
    "example = \"snow world\"\n",
    "print(\"%s\" % example[4:7])"
   ]
  },
  {
   "cell_type": "code",
   "execution_count": 9,
   "metadata": {},
   "outputs": [
    {
     "name": "stdout",
     "output_type": "stream",
     "text": [
      "DA CABA AA"
     ]
    }
   ],
   "source": [
    "print(\"DA\", sep=\"-\",end = ' ')\n",
    "print(\"CA\", end = '')\n",
    "print(\"BA\", sep=\"-\", end = ' ')\n",
    "print(\"AA\", end = '')"
   ]
  },
  {
   "cell_type": "code",
   "execution_count": 9,
   "metadata": {},
   "outputs": [
    {
     "name": "stdout",
     "output_type": "stream",
     "text": [
      "0\n"
     ]
    }
   ],
   "source": [
    "print(\"clarusway\" and 0 and not \"\" and False and (\" \" or None))"
   ]
  },
  {
   "cell_type": "code",
   "execution_count": 6,
   "metadata": {},
   "outputs": [
    {
     "name": "stdin",
     "output_type": "stream",
     "text": [
      "Value:  5\n",
      "Value:  6\n"
     ]
    },
    {
     "name": "stdout",
     "output_type": "stream",
     "text": [
      "False\n"
     ]
    }
   ],
   "source": [
    "input1 = int(input(\"Value: \"))\n",
    "input2 = int(input(\"Value: \"))\n",
    "print(input1 == input2)"
   ]
  },
  {
   "cell_type": "code",
   "execution_count": 8,
   "metadata": {},
   "outputs": [
    {
     "name": "stdin",
     "output_type": "stream",
     "text": [
      "Value :  5\n",
      "Value :  5\n",
      "Value :  7\n"
     ]
    },
    {
     "name": "stdout",
     "output_type": "stream",
     "text": [
      "False\n"
     ]
    }
   ],
   "source": [
    "input1 = int(input(\"Value : \"))\n",
    "input2 = int(input(\"Value : \"))\n",
    "input3 = int(input(\"Value : \"))\n",
    "print(input1 == input2 == input3)"
   ]
  },
  {
   "cell_type": "code",
   "execution_count": 9,
   "metadata": {},
   "outputs": [
    {
     "name": "stdout",
     "output_type": "stream",
     "text": [
      "True False False\n"
     ]
    }
   ],
   "source": [
    "print( input1 == input2, input1 == input3, input2 == input3)"
   ]
  },
  {
   "cell_type": "code",
   "execution_count": 10,
   "metadata": {},
   "outputs": [
    {
     "name": "stdin",
     "output_type": "stream",
     "text": [
      "Enter a number < 5:  3\n",
      "Enter a number < 5:  2\n"
     ]
    }
   ],
   "source": [
    "input1 = int(input(\"Enter a number < 5: \"))\n",
    "input2 = int(input(\"Enter a number < 5: \"))"
   ]
  },
  {
   "cell_type": "code",
   "execution_count": 11,
   "metadata": {},
   "outputs": [
    {
     "name": "stdout",
     "output_type": "stream",
     "text": [
      "True True True\n"
     ]
    }
   ],
   "source": [
    "print( input1+input2 == 5, input1+input2 <= 5, input1+input2 >= 5)"
   ]
  },
  {
   "cell_type": "code",
   "execution_count": 12,
   "metadata": {},
   "outputs": [
    {
     "name": "stdin",
     "output_type": "stream",
     "text": [
      "Enter your mark :  34\n"
     ]
    },
    {
     "name": "stdout",
     "output_type": "stream",
     "text": [
      "False\n"
     ]
    }
   ],
   "source": [
    "pass_mark = 35\n",
    "your_mark = int(input(\"Enter your mark : \"))\n",
    "print(your_mark >= pass_mark)"
   ]
  },
  {
   "cell_type": "code",
   "execution_count": 14,
   "metadata": {},
   "outputs": [
    {
     "name": "stdin",
     "output_type": "stream",
     "text": [
      "Enter the first angle:  50\n",
      "Enter the second angle:  60\n",
      "Enter the third angle:  70\n"
     ]
    },
    {
     "name": "stdout",
     "output_type": "stream",
     "text": [
      "True\n"
     ]
    }
   ],
   "source": [
    "angle1 = int(input(\"Enter the first angle: \"))\n",
    "angle2 = int(input(\"Enter the second angle: \"))\n",
    "angle3 = int(input(\"Enter the third angle: \"))\n",
    "print((angle1+angle2+angle3 == 180) and (angle1 and angle2 and angle3 != 0))"
   ]
  },
  {
   "cell_type": "code",
   "execution_count": 10,
   "metadata": {},
   "outputs": [
    {
     "name": "stdin",
     "output_type": "stream",
     "text": [
      "Enter a number:  27\n"
     ]
    }
   ],
   "source": [
    "number = int(input(\"Enter a number: \"))\n",
    "remainder_2 = number % 2\n",
    "remainder_2 == 0.0\n",
    "divisibility_2 = (remainder_2 == 0.0 and 'an even') or 'not an even'  # 1 saat ugrastim, Ohh my God yani :)\n",
    "remainder_3 = number % 3\n",
    "remainder_3 == 0.0\n",
    "divisibility_3 = (remainder_3 == 0.0 and 'can') or 'cannot'  # bu kisim 5 dk bile sürmedi :)"
   ]
  },
  {
   "cell_type": "code",
   "execution_count": 11,
   "metadata": {},
   "outputs": [
    {
     "name": "stdout",
     "output_type": "stream",
     "text": [
      "27 is not an even number and it can be divided by three. \n"
     ]
    }
   ],
   "source": [
    "print(\"{} is {} number and it {} be divided by three. \".format(number, divisibility_2, divisibility_3))"
   ]
  },
  {
   "cell_type": "code",
   "execution_count": 8,
   "metadata": {},
   "outputs": [
    {
     "name": "stdin",
     "output_type": "stream",
     "text": [
      "Write an integer number:  24\n"
     ]
    },
    {
     "name": "stdout",
     "output_type": "stream",
     "text": [
      "even\n",
      "can\n",
      "24 is an even number and it can be divided into 3.\n"
     ]
    }
   ],
   "source": [
    "x = int(float(input(\"Write an integer number: \")))\n",
    "even_odd = bool(x % 2 == 0) and \"even\" or bool(x % 2 != 0) and \"odd\"\n",
    "print(even_odd)\n",
    "div_by_3 = bool(x % 3 == 0) and \"can\" or bool(x % 3 != 0) and \"can NOT\"\n",
    "print(div_by_3)\n",
    "print(f\"{x} is an {even_odd} number and it {div_by_3} be divided into 3.\")"
   ]
  },
  {
   "cell_type": "code",
   "execution_count": 22,
   "metadata": {},
   "outputs": [
    {
     "name": "stdin",
     "output_type": "stream",
     "text": [
      "Enter a number to see if it is odd or even and dividable by 3:  24\n"
     ]
    },
    {
     "name": "stdout",
     "output_type": "stream",
     "text": [
      "24\n",
      "True\n",
      "can\n",
      "24 is an even number and can be divided by 3.\n"
     ]
    }
   ],
   "source": [
    "number = int(input(\"Enter a number to see if it is odd or even and dividable by 3: \"))\n",
    "status_even_odd = (number % 2 == 0) and \"even\" or ((number % 2 != 0) and \"odd\")\n",
    "dividable_3 = (number % 3) == 0 and \"can\" or ((number % 3 != 0) and \"can not\")\n",
    "print(f\"{number} is an {status_even_odd} number and {dividable_3} be divided by 3.\")"
   ]
  },
  {
   "cell_type": "code",
   "execution_count": 1,
   "metadata": {},
   "outputs": [
    {
     "name": "stdin",
     "output_type": "stream",
     "text": [
      "Please enter a number 13\n"
     ]
    },
    {
     "name": "stdout",
     "output_type": "stream",
     "text": [
      "13 is an odd number  and it can not be divided into 3 \n"
     ]
    }
   ],
   "source": [
    "number = int(input(\"Please enter a number\"))\n",
    "text1=\"is an odd number\"\n",
    "text2=\"is an even number\"\n",
    "text3=\"and it can not be divided into 3\"\n",
    "text4=\"and it can  be divided into 3\"\n",
    "print(f\"{number}\", f\"{int(bool(number % 2))*text1}\", f\"{int(not bool(number % 2))*text2}\",\n",
    "      f\"{int(bool(number % 3))*text3}\", f\"{int(not bool(number % 3))*text4}\")"
   ]
  },
  {
   "cell_type": "code",
   "execution_count": 45,
   "metadata": {},
   "outputs": [
    {
     "name": "stdin",
     "output_type": "stream",
     "text": [
      "Enter a whole number :  32\n"
     ]
    },
    {
     "name": "stdout",
     "output_type": "stream",
     "text": [
      "32 False\n"
     ]
    }
   ],
   "source": [
    "# Ask users to enter an integer. Write a code which determines whether \n",
    "# the given integer is a square number (0, 1, 4, 9, 16 and so on). \n",
    "# See the sample answers: 4 is a square number. 5 is not a square number.\n",
    "x = int(input(\"Enter a whole number : \"))\n",
    "square = ((int(x / (x ** (1/2))) == int(x ** (1/2))) and (x % (x ** (1/2)) == 0) and \"is a square number.\") or ((int(x / (x ** (1/2))) != int(x ** (1/2))) and (x % (x ** (1/2)) == 0) and \"is not a square number.\")\n",
    "print(f\"{x} {square}\")"
   ]
  },
  {
   "cell_type": "code",
   "execution_count": 6,
   "metadata": {},
   "outputs": [
    {
     "name": "stdout",
     "output_type": "stream",
     "text": [
      "98\n",
      "b\n",
      "c\n"
     ]
    }
   ],
   "source": [
    "print(ord('b'))  # ord() unicodeunu bulur, int karsiligini.\n",
    "print(chr(ord('b')))  \n",
    "print(chr(ord('b') +1))\n",
    "\n",
    "# The Python ord() function converts a character into an integer that represents the Unicode code of the character. \n",
    "# Similarly, the chr() function converts a Unicode code character into the corresponding string."
   ]
  },
  {
   "cell_type": "code",
   "execution_count": 30,
   "metadata": {},
   "outputs": [
    {
     "name": "stdout",
     "output_type": "stream",
     "text": [
      "1\n"
     ]
    }
   ],
   "source": [
    "string = \"Python is awesome, isn't it?\"\n",
    "substring = \"i\"\n",
    "count = string.count(substring, 8, 25)\n",
    "print(count)"
   ]
  },
  {
   "cell_type": "code",
   "execution_count": 32,
   "metadata": {},
   "outputs": [
    {
     "name": "stdout",
     "output_type": "stream",
     "text": [
      "Welcome   # 111#924.66\n"
     ]
    }
   ],
   "source": [
    "print(format(\"Welcome\", \"10s\"), end = '#')\n",
    "print(format(111, \"4d\"), end = '#')\n",
    "print(format(924.656, \"3.2f\"))"
   ]
  },
  {
   "cell_type": "code",
   "execution_count": 35,
   "metadata": {},
   "outputs": [
    {
     "name": "stdout",
     "output_type": "stream",
     "text": [
      "1\n"
     ]
    }
   ],
   "source": [
    "print(\"xyyzxyzxzxyy\".count('yy', 2))"
   ]
  },
  {
   "cell_type": "code",
   "execution_count": 39,
   "metadata": {},
   "outputs": [
    {
     "name": "stdout",
     "output_type": "stream",
     "text": [
      "False\n"
     ]
    }
   ],
   "source": [
    "print(\"xyyzxyzxzxyy\".endswith(\"xyy\", 0, 2))  # 0. indexten 2. indexe kadarki xyy ile mi bitiyor. 3 dese true idi."
   ]
  },
  {
   "cell_type": "code",
   "execution_count": 40,
   "metadata": {},
   "outputs": [
    {
     "name": "stdout",
     "output_type": "stream",
     "text": [
      "['ab', 'ef', 'gh', '']\n"
     ]
    }
   ],
   "source": [
    "print('abcdefcdghcd'.split('cd'))"
   ]
  },
  {
   "cell_type": "code",
   "execution_count": 1,
   "metadata": {},
   "outputs": [
    {
     "name": "stdin",
     "output_type": "stream",
     "text": [
      "Enter your age:  41\n",
      "Enter your status (1 for citizen- 2 for nonnative citizen):  2\n"
     ]
    },
    {
     "name": "stdout",
     "output_type": "stream",
     "text": [
      "False\n"
     ]
    }
   ],
   "source": [
    "# Belirli bir yaş ve vatandaşlık statüsündeki biri ABD'de başkanlığa aday olabilir mi?\n",
    "# ABD Anayasası, doğuştan bir vatandaş * ve* en az 35 yaşında olmanız gerektiğini söylüyor.\n",
    "# Kullanıcıdan yaşını ve statüsünü öğrenip adaylık durumunu True yada False döndürerek sorgulayalım. \n",
    "# İsterseniz kullanıcı dostu çıktı için format yada f string kullanabilirsiniz.\n",
    "\n",
    "age = bool( 35 <= (int(input(\"Enter your age: \"))))\n",
    "status = bool(1 == (int(input(\"Enter your status (1 for citizen- 2 for nonnative citizen): \"))))\n",
    "print(age and status)"
   ]
  },
  {
   "cell_type": "code",
   "execution_count": 3,
   "metadata": {},
   "outputs": [
    {
     "data": {
      "text/plain": [
       "98"
      ]
     },
     "execution_count": 3,
     "metadata": {},
     "output_type": "execute_result"
    }
   ],
   "source": [
    "# Jupyter: ctrl + slash tüm satirlari comment yapar (veya ilgili satırı)\n",
    "ord(\"b\")"
   ]
  },
  {
   "cell_type": "code",
   "execution_count": 7,
   "metadata": {},
   "outputs": [
    {
     "name": "stdout",
     "output_type": "stream",
     "text": [
      "98\n",
      "99\n",
      "c\n"
     ]
    }
   ],
   "source": [
    "\n",
    "print(ord('b'))\n",
    "print(ord('c'))\n",
    "print(chr(ord('b')+1))"
   ]
  },
  {
   "cell_type": "code",
   "execution_count": 12,
   "metadata": {},
   "outputs": [
    {
     "name": "stdout",
     "output_type": "stream",
     "text": [
      "Welcome   # 111#924.66\n"
     ]
    }
   ],
   "source": [
    "print(format(\"Welcome\", \"10s\"), end = '#')\n",
    "print(format(111, \"4d\"), end = '#')\n",
    "print(format(924.656, \"3.2f\"))"
   ]
  },
  {
   "cell_type": "code",
   "execution_count": 29,
   "metadata": {},
   "outputs": [
    {
     "name": "stdout",
     "output_type": "stream",
     "text": [
      "1\n"
     ]
    }
   ],
   "source": [
    "print(\"xyyzxyzxzxyy\".count('zx', 1, 6))"
   ]
  },
  {
   "cell_type": "code",
   "execution_count": 33,
   "metadata": {},
   "outputs": [
    {
     "name": "stdout",
     "output_type": "stream",
     "text": [
      "True\n"
     ]
    }
   ],
   "source": [
    "print(\"xyyzxyzxzxyy\".endswith(\"xyy\"))"
   ]
  },
  {
   "cell_type": "code",
   "execution_count": 35,
   "metadata": {},
   "outputs": [
    {
     "name": "stdout",
     "output_type": "stream",
     "text": [
      "1\n"
     ]
    }
   ],
   "source": [
    " print(\"xyyzxyzxzxyy\".count('xyy', 2))"
   ]
  },
  {
   "cell_type": "code",
   "execution_count": 47,
   "metadata": {},
   "outputs": [
    {
     "name": "stdout",
     "output_type": "stream",
     "text": [
      "cdabcdcdefcd ['', 'gh', '', '', '']\n"
     ]
    }
   ],
   "source": [
    "print('cdabcdcdefcd', 'cdghcdcdcd'.split('cd')) "
   ]
  },
  {
   "cell_type": "code",
   "execution_count": 3,
   "metadata": {},
   "outputs": [
    {
     "name": "stdin",
     "output_type": "stream",
     "text": [
      " 4\n"
     ]
    },
    {
     "name": "stdout",
     "output_type": "stream",
     "text": [
      "Not Weird\n"
     ]
    }
   ],
   "source": [
    "# Given an integer, , perform the following conditional actions:\n",
    "# If n is odd, print Weird\n",
    "# If n is even and in the inclusive range of 2 to 5, print Not Weird\n",
    "# If n is even and in the inclusive range 6 of 20 to , print Weird\n",
    "# If n is even and greater than 20, print Not Weird\n",
    "\n",
    "n = int(input().strip())\n",
    "print(((n % 2 == 1) and \"Weird\") or ((n % 2 == 0) and (2 <= n <= 5) and \"Not Weird\") or \n",
    "      ((n % 2 == 0) and (6 <= n <= 20) and \"Weird\") or ((n % 2 == 0) and (n > 20) and \"Not Weird\"))\n"
   ]
  },
  {
   "cell_type": "code",
   "execution_count": 8,
   "metadata": {},
   "outputs": [
    {
     "name": "stdin",
     "output_type": "stream",
     "text": [
      " 6\n"
     ]
    }
   ],
   "source": [
    "n = int(input())"
   ]
  },
  {
   "cell_type": "code",
   "execution_count": 18,
   "metadata": {},
   "outputs": [
    {
     "name": "stdout",
     "output_type": "stream",
     "text": [
      "[0, 1, 2, 3, 4, 5]\n",
      "1\n",
      "1\n",
      "4\n",
      "27\n",
      "256\n",
      "3125\n"
     ]
    }
   ],
   "source": [
    "list_nonneg_n = list(range(0,6))\n",
    "print((list_nonneg_n[0]) ** 0)\n",
    "print((list_nonneg_n[1]) ** 1)\n",
    "print((list_nonneg_n[2]) ** 2)\n",
    "print((list_nonneg_n[3]) ** 3)\n",
    "print((list_nonneg_n[4]) ** 4)\n",
    "print((list_nonneg_n[5]) ** 5)\n",
    "                     "
   ]
  },
  {
   "cell_type": "code",
   "execution_count": 28,
   "metadata": {},
   "outputs": [
    {
     "name": "stdout",
     "output_type": "stream",
     "text": [
      "gül\n",
      "lale\n",
      "2 adet gül ve 3 adet lale lale alabilir miyim\n"
     ]
    }
   ],
   "source": [
    "# Bir cicekcide içiçe 3 büyük sepet vardır. En içteki en küçük sepette karanfil, papatya ve gül vardır. \n",
    "# En küçük sepetin içinde olduğu orta boylu sepette bir de lale vardır. \n",
    "# tüm bunların içinde olduğu en büyük sepette ise bunlara ilaveten menekşe, nergis ve sümbül vardır.\n",
    "# Çiçeklerden bir liste oluşturarak, string format metoduyla çiçekçiden 2 adet gül ve 3 adet lale istediğinizi belirten bir kod yazınız.\n",
    "cicekler = ['menekşe', ['lale', ['karanfil', 'papatya', 'gül']], 'Nergis', 'Sümbül']\n",
    "# Eğer varsa zambak alayım, yoksa 2 gül 3 lale alayım\n",
    "print(cicekler[1] [1] [2])\n",
    "print(cicekler[1][0])\n",
    "print(\"2 adet {} ve 3 adet {} alabilir miyim\".format(cicekler[1] [1] [2], cicekler[1][0]))"
   ]
  },
  {
   "cell_type": "markdown",
   "metadata": {},
   "source": [
    "Stringlerden kurtulacağınızı mı sandınız. Buyrun size string ve listelerin metodlarını birlikte kullanacağınız bir soru:\n",
    "Task: \"Her gün, her hafta, bilgime yeni bilgiler katıyorum, bu beni çok motive ediyor.\" textinde her virgülden sonra \"#\" karakteri, her boşluktan sonra da \"_\" karakteri gelsin istiyoruz.\n",
    "Bu soruda farklı çözümler bekliyorum.\n",
    "split() ve join() metodlarını kullanabilirsiniz. E madem öğrendiniz, belirtilen karakterler yerine chr() fonksiyonunu kullanmayı da düşünürsünüz di mi. (edited) "
   ]
  },
  {
   "cell_type": "code",
   "execution_count": 47,
   "metadata": {},
   "outputs": [
    {
     "name": "stdout",
     "output_type": "stream",
     "text": [
      "Her _gün,# _her _hafta,# _bilgime _yeni _bilgiler _katıyorum,# _bu _beni _çok _motive _ediyor.\n"
     ]
    }
   ],
   "source": [
    "text = \"Her gün, her hafta, bilgime yeni bilgiler katıyorum, bu beni çok motive ediyor.\"\n",
    "text2 = text.replace(\",\", \",#\").replace(\" \", \" _\")\n",
    "print(text2)"
   ]
  },
  {
   "cell_type": "code",
   "execution_count": 67,
   "metadata": {},
   "outputs": [
    {
     "name": "stdout",
     "output_type": "stream",
     "text": [
      "Her _gün,# _her _hafta,# _bilgime _yeni _bilgiler _katıyorum,# _bu _beni _çok _motive _ediyor.\n"
     ]
    }
   ],
   "source": [
    "text = \"Her gün, her hafta, bilgime yeni bilgiler katıyorum, bu beni çok motive ediyor.\"\n",
    "text2 = text.split()  # liste yapar\n",
    "text3 = \" _\".join(text2)  # listeyi geri string yapar\n",
    "text4 = text3.split(\",\")  \n",
    "print(\",#\".join(text4))"
   ]
  },
  {
   "cell_type": "code",
   "execution_count": 12,
   "metadata": {},
   "outputs": [
    {
     "name": "stdout",
     "output_type": "stream",
     "text": [
      "codescracker\n"
     ]
    }
   ],
   "source": [
    "print(\"codescracker\".center(0))"
   ]
  },
  {
   "cell_type": "code",
   "execution_count": 13,
   "metadata": {},
   "outputs": [
    {
     "name": "stdout",
     "output_type": "stream",
     "text": [
      "   345.355\n"
     ]
    }
   ],
   "source": [
    "x = 345.3546\n",
    "print(format(x, \"10.3f\"))"
   ]
  },
  {
   "cell_type": "code",
   "execution_count": 15,
   "metadata": {},
   "outputs": [
    {
     "name": "stdout",
     "output_type": "stream",
     "text": [
      "80\n",
      "30\n",
      "5\n"
     ]
    }
   ],
   "source": [
    "mylist = [10, 20, 5, 30, 15]\n",
    "print(sum(mylist))\n",
    "print(max(mylist))\n",
    "print(min(mylist))"
   ]
  },
  {
   "cell_type": "code",
   "execution_count": 16,
   "metadata": {},
   "outputs": [
    {
     "name": "stdout",
     "output_type": "stream",
     "text": [
      "2\n"
     ]
    }
   ],
   "source": [
    "mylist = [3, 4, 5, 20, 5]\n",
    "print(mylist.index(5))"
   ]
  },
  {
   "cell_type": "code",
   "execution_count": 10,
   "metadata": {},
   "outputs": [],
   "source": [
    "liste = [1, 2, 3]"
   ]
  },
  {
   "cell_type": "code",
   "execution_count": 132,
   "metadata": {},
   "outputs": [],
   "source": [
    "liste.append(liste[-1] + liste[-2])  # appendi 3 kere çalıştırdık, aşağıda 5 8 ve 13 ü ekledi. \n",
    "# her defasında listeyi de çalıştırmalı. ya da bunu 3 kere yapıp sonra print edince de olur."
   ]
  },
  {
   "cell_type": "code",
   "execution_count": 133,
   "metadata": {},
   "outputs": [
    {
     "name": "stdout",
     "output_type": "stream",
     "text": [
      "[[14, 15, 16, 17], [10, 11, 12, 13], [6, 7, 8, 9], [1, 2, 3, 4, 5], [1, 2, 3, 4, 5, 6, 7, 8, 9]]\n"
     ]
    }
   ],
   "source": [
    "print(liste)"
   ]
  },
  {
   "cell_type": "code",
   "execution_count": 17,
   "metadata": {},
   "outputs": [
    {
     "data": {
      "text/plain": [
       "''"
      ]
     },
     "execution_count": 17,
     "metadata": {},
     "output_type": "execute_result"
    }
   ],
   "source": [
    "\"sayı\" * 0"
   ]
  },
  {
   "cell_type": "code",
   "execution_count": 14,
   "metadata": {},
   "outputs": [
    {
     "name": "stdout",
     "output_type": "stream",
     "text": [
      "Total profit from the sale of whole inventory would be 5125 .\n"
     ]
    }
   ],
   "source": [
    "# Task: You are given a dictionary (sales) containing the cost price per unit (in dollars), \n",
    "# sell price per unit (in dollars), and the beginning inventory. Write a program \n",
    "# to return the total profit made, rounded to the nearest dollar. \n",
    "# Assume all of the inventory has been sold. \n",
    "sales = {'cost_value' : 24.75, 'sell_value' : 35, 'inventory' : 500 }\n",
    "# Dict'i bu sekilde olusturduktan sonra parca paşı kar miktarını bulup bunu inventory miktarı ile çarparız\n",
    "total_profit = ((sales['sell_value'] - sales['cost_value']) * sales['inventory'])\n",
    "# total profit'i bu şekilde hesapladıktan sonra round fonksiyonu \n",
    "# ile en yakın int.a yuvarlayacak şekilde ve okuyucu dostu bir yazımla print ederiz.\n",
    "print(\"Total profit from the sale of whole inventory would be\", round(total_profit), \".\")"
   ]
  },
  {
   "cell_type": "code",
   "execution_count": 80,
   "metadata": {},
   "outputs": [
    {
     "name": "stdout",
     "output_type": "stream",
     "text": [
      "dict_values([135.75, 98.5, 103.38])\n",
      "$135.75\n",
      "$98.50\n",
      "$103.38\n"
     ]
    }
   ],
   "source": [
    "#Departmanındaki işçilerin kazançlarını dollar olarak aldıktan sonra payrollarını\n",
    "# $xx.yy formatında göster\n",
    "amount_dollar = { 'Jason' : 135.75, 'Julia' : 98.5, 'John' : 103.38}\n",
    "payrolls_dollar = amount_dollar.values()\n",
    "print(payrolls_dollar)\n",
    "print(\"${:.2f}\".format(float([x for x in payrolls_dollar][0])))\n",
    "print(\"${:.2f}\".format(float([x for x in payrolls_dollar][1])))\n",
    "print(\"${:.2f}\".format(float([x for x in payrolls_dollar][2])))"
   ]
  },
  {
   "cell_type": "code",
   "execution_count": 135,
   "metadata": {},
   "outputs": [
    {
     "name": "stdout",
     "output_type": "stream",
     "text": [
      "$135.75 \n",
      "$98.50 \n",
      "$103.38\n"
     ]
    }
   ],
   "source": [
    "amount_dollar = { 'Jason' : 135.75, 'Julia' : 98.5, 'John' : 103.38}\n",
    "print(\"${:.2f} \\n${:.2f} \\n${:.2f}\".format(list(amount_dollar.values())[0], list(amount_dollar.values())[1], \n",
    "                                           list(amount_dollar.values())[2] ))"
   ]
  },
  {
   "cell_type": "code",
   "execution_count": 155,
   "metadata": {},
   "outputs": [
    {
     "name": "stdout",
     "output_type": "stream",
     "text": [
      "$135.75 \n",
      "$98.50 \n",
      "$103.38\n"
     ]
    }
   ],
   "source": [
    "Jason = 135.75\n",
    "Julia = 98.5\n",
    "John = 103.38\n",
    "payrolls = f\"${Jason :.2f} \\n${Julia :.2f} \\n${John :.2f}\"\n",
    "print(payrolls)"
   ]
  },
  {
   "cell_type": "code",
   "execution_count": null,
   "metadata": {},
   "outputs": [],
   "source": []
  },
  {
   "cell_type": "code",
   "execution_count": 123,
   "metadata": {},
   "outputs": [
    {
     "name": "stdout",
     "output_type": "stream",
     "text": [
      "['mailto: Clarusway admission', 'clarusway.com, 21 Eki 2022 Cuma, 21:08 tarihinde şunu yazdı:']\n",
      "clarusway.com\n"
     ]
    }
   ],
   "source": [
    "mail = \"mailto: Clarusway admission@clarusway.com, 21 Eki 2022 Cuma, 21:08 tarihinde şunu yazdı:\"\n",
    "aaa = mail.split('@')\n",
    "print(aaa)\n",
    "print(aaa[1][:13])"
   ]
  },
  {
   "cell_type": "code",
   "execution_count": 145,
   "metadata": {},
   "outputs": [
    {
     "name": "stdout",
     "output_type": "stream",
     "text": [
      "clarusway.com\n"
     ]
    }
   ],
   "source": [
    "mail = \"mailto: Clarusway admission@clarusway.com, 21 Eki 2022 Cuma, 21:08 tarihinde şunu yazdı:\"\n",
    "aaa = mail.index('clarusway.com')  # bunun ciktisi 28\n",
    "bbb = len('clarusway.com')  # bunun ciktisi 13 \n",
    "print(mail[aaa:aaa+bbb])  # mail[28:28+13]"
   ]
  },
  {
   "cell_type": "code",
   "execution_count": 139,
   "metadata": {},
   "outputs": [
    {
     "name": "stdout",
     "output_type": "stream",
     "text": [
      "clarusway.com\n"
     ]
    }
   ],
   "source": [
    "mail = \"mailto: Clarusway admission@clarusway.com, 21 Eki 2022 Cuma, 21:08 tarihinde şunu yazdı:\"\n",
    "aaa = mail.find('clarusway.com')\n",
    "bbb = len('clarusway.com')\n",
    "print(mail[aaa:aaa+bbb])"
   ]
  },
  {
   "cell_type": "markdown",
   "metadata": {},
   "source": [
    "A stack is a linear data structure that stores items in a Last-In/First-Out (LIFO) or First-In/Last-Out (FILO) manner. In stack, a new element is added at one end and an element is removed from that end only. The insert and delete operations are often called push and pop."
   ]
  },
  {
   "cell_type": "code",
   "execution_count": 158,
   "metadata": {},
   "outputs": [
    {
     "name": "stdout",
     "output_type": "stream",
     "text": [
      "['var', 'dersi', 'python', 'akşam', 'bu']\n"
     ]
    }
   ],
   "source": [
    "string = \"bu.akşam.python.dersi.var\"\n",
    "list_string = string.split(\".\")\n",
    "list_string.reverse()\n",
    "print(list_string)"
   ]
  },
  {
   "cell_type": "code",
   "execution_count": 160,
   "metadata": {},
   "outputs": [
    {
     "name": "stdout",
     "output_type": "stream",
     "text": [
      "python\n"
     ]
    }
   ],
   "source": [
    "string = \"bu.akşam.python.dersi.var\"\n",
    "aaa = string.index(\"python\")\n",
    "bbb = len('python')\n",
    "print(string[aaa:aaa+bbb])"
   ]
  },
  {
   "cell_type": "code",
   "execution_count": 211,
   "metadata": {},
   "outputs": [
    {
     "name": "stdout",
     "output_type": "stream",
     "text": [
      "['var', 'dersi', 'python', 'akşam', 'bu']\n",
      "var.dersi.python.akşam.bu\n"
     ]
    }
   ],
   "source": [
    "string = \"bu.akşam.python.dersi.var\"\n",
    "list_string = string.split(\".\")  # string'i belirtilen elementle böler ve list'e ceviri\n",
    "list_string.reverse()  # list'in elementlerini ters cevirir\n",
    "print(list_string)\n",
    "re_string = \".\".join(list_string)  # bir list'i belirtilen elementle birleştirip list yapar\n",
    "print(re_string)"
   ]
  },
  {
   "cell_type": "code",
   "execution_count": 248,
   "metadata": {},
   "outputs": [
    {
     "name": "stdin",
     "output_type": "stream",
     "text": [
      "Enter a number for rotation:  4\n"
     ]
    },
    {
     "name": "stdout",
     "output_type": "stream",
     "text": [
      "[3, 4, 5, 6]\n",
      "[1, 2]\n",
      "[3, 4, 5, 6, 1, 2]\n"
     ]
    }
   ],
   "source": [
    "# Task: kullanıcının gireceği rakam kadar sondan element başa alınsın\n",
    "liste = [1, 2, 3, 4, 5, 6]\n",
    "rotate_no = int(input('Enter a number for rotation: '))\n",
    "print(liste[(len(liste)-rotate_no)::])\n",
    "print(liste[:(len(liste)-rotate_no)])\n",
    "print((liste[(len(liste)-rotate_no)::]) + (liste[:(len(liste)-rotate_no)]))"
   ]
  },
  {
   "cell_type": "code",
   "execution_count": 259,
   "metadata": {},
   "outputs": [
    {
     "name": "stdin",
     "output_type": "stream",
     "text": [
      "Your most favourite food is :  Cheese\n",
      "Your second favourite food is :  Meat\n",
      "Your third favourite food is :  Pasta\n",
      "Your fourth favourite food is :  Egg\n"
     ]
    },
    {
     "name": "stdout",
     "output_type": "stream",
     "text": [
      "{1: 'Cheese', 2: 'Meat', 3: 'Pasta', 4: 'Egg'}\n"
     ]
    },
    {
     "name": "stdin",
     "output_type": "stream",
     "text": [
      "Which one in the list you want to take out:  3\n"
     ]
    },
    {
     "name": "stdout",
     "output_type": "stream",
     "text": [
      "{1: 'Cheese', 2: 'Meat', 4: 'Egg'}\n"
     ]
    }
   ],
   "source": [
    "# Ask the user to  enter four of their  favourite foods  and store them in  a dictionary \n",
    "# so  that they are  indexed with  numbers starting  from 1. \n",
    "# Display  the dictionary in  full, showing the  index number  and the item. Ask  them which they  want \n",
    "# to get rid of  and remove it  from the list. Sort  the remaining  data and display  the dictionary\n",
    "user_foods = {1 : (input('Your most favourite food is : ')), 2 : (input('Your second favourite food is : ')), \n",
    "              3 : (input('Your third favourite food is : ')), 4 : (input('Your fourth favourite food is : '))}\n",
    "print(user_foods)\n",
    "out = int(input('Which one in the list you want to take out: '))\n",
    "del user_foods[out]\n",
    "print(user_foods)"
   ]
  },
  {
   "cell_type": "code",
   "execution_count": 260,
   "metadata": {},
   "outputs": [],
   "source": [
    "friends = {\n",
    "    'friend1': {'first_name': 'Jim', 'last_name' : 'Muller'},\n",
    "    'friend2': {'first_name': 'John', 'last_name' : 'Way'},\n",
    "}"
   ]
  },
  {
   "cell_type": "code",
   "execution_count": 271,
   "metadata": {},
   "outputs": [],
   "source": [
    "favourite = {\n",
    "    'family' :{\n",
    "                'family1': {'first_name': 'İskender', 'last_name' : 'Çınar'},\n",
    "                'family2': {'first_name': 'Mecnun', 'last_name' : 'Çınar'},\n",
    "                'family3': {'first_name': 'Dede', 'last_name' : 'Aksakallı'}\n",
    "    },\n",
    "    'friends':{\n",
    "                'friend1': {'first_name': 'İsmail', 'last_name' : 'Abi'},\n",
    "                'friend2': {'first_name': 'Erdal', 'last_name' : 'Bakkal'},\n",
    "                'friend3': {'first_name': 'Yavuz', 'last_name' : 'Hırsız'}\n",
    "                },\n",
    "}"
   ]
  },
  {
   "cell_type": "code",
   "execution_count": 272,
   "metadata": {},
   "outputs": [
    {
     "name": "stdout",
     "output_type": "stream",
     "text": [
      "{'family': {'family1': {'first_name': 'İskender', 'last_name': 'Çınar'}, 'family2': {'first_name': 'Mecnun', 'last_name': 'Çınar'}, 'family3': {'first_name': 'Dede', 'last_name': 'Aksakallı'}}, 'friends': {'friend1': {'first_name': 'İsmail', 'last_name': 'Abi'}, 'friend2': {'first_name': 'Erdal', 'last_name': 'Bakkal'}, 'friend3': {'first_name': 'Yavuz', 'last_name': 'Hırsız'}}}\n"
     ]
    }
   ],
   "source": [
    "print(favourite)"
   ]
  },
  {
   "cell_type": "code",
   "execution_count": 47,
   "metadata": {},
   "outputs": [
    {
     "name": "stdout",
     "output_type": "stream",
     "text": [
      "{'m', 'i', 's', 'h', 'a', 'e', 'c', 't'}\n",
      "False\n",
      "False\n",
      "True\n"
     ]
    }
   ],
   "source": [
    "set_left = {'q', 'w', 'e', 'r', 't', 'a', 's', 'd', 'f', 'g', 'z', 'x', 'c', 'v', 'b'}\n",
    "set_right = {'y', 'u', 'i', 'o', 'p', 'h', 'j', 'k', 'l', 'n', 'm'}\n",
    "word = 'mathematics'\n",
    "set_word = set('mathematics')\n",
    "\n",
    "print(set_word - set_left == set())\n",
    "print(set_word - set_right == set())\n",
    "print((set_word - set_left != set()) and (set_word - set_right != set()))"
   ]
  },
  {
   "cell_type": "code",
   "execution_count": 72,
   "metadata": {},
   "outputs": [
    {
     "name": "stdout",
     "output_type": "stream",
     "text": [
      "False\n",
      "False\n",
      "True\n",
      "uses both hand fingers\n"
     ]
    }
   ],
   "source": [
    "set_left = {'q', 'w', 'e', 'r', 't', 'a', 's', 'd', 'f', 'g', 'z', 'x', 'c', 'v', 'b'}\n",
    "set_right = {'y', 'u', 'i', 'o', 'p', 'h', 'j', 'k', 'l', 'n', 'm'}\n",
    "word = 'mathematics'\n",
    "set_word = set('mathematics')\n",
    "\n",
    "print(set_word - set_left == set())\n",
    "print(set_word - set_right == set())\n",
    "print((set_word - set_left != set()) and (set_word - set_right != set()))\n",
    "print((int(set_word - set_left == set())* \"uses only left-hand fingers\") \n",
    "      or (int(set_word - set_right == set()) * \"uses only right-hand fingers\")\n",
    "or ((int(set_word - set_left != set())and (int(set_word - set_right != set())) * \"uses both hand fingers\")))"
   ]
  },
  {
   "cell_type": "code",
   "execution_count": 12,
   "metadata": {},
   "outputs": [
    {
     "name": "stdout",
     "output_type": "stream",
     "text": [
      "False\n",
      "False\n",
      "True\n",
      "uses both hand fingers\n"
     ]
    }
   ],
   "source": [
    "set_left = {'q', 'w', 'e', 'r', 't', 'a', 's', 'd', 'f', 'g', 'z', 'x', 'c', 'v', 'b'}\n",
    "set_right = {'y', 'u', 'i', 'o', 'p', 'h', 'j', 'k', 'l', 'n', 'm'}\n",
    "word = 'mathematics'\n",
    "set_word = set('mathematics')\n",
    "\n",
    "print(set_word - set_left == set())\n",
    "print(set_word - set_right == set())\n",
    "print((set_word - set_left != set()) and (set_word - set_right != set()))\n",
    "\n",
    "if set_word - set_left == set() :\n",
    "    print(\"uses only left-hand fingers\")\n",
    "elif set_word - set_right == set() :\n",
    "    print(\"uses only right-hand fingers\")\n",
    "else : \n",
    "    print(\"uses both hand fingers\")"
   ]
  },
  {
   "cell_type": "code",
   "execution_count": 24,
   "metadata": {},
   "outputs": [
    {
     "name": "stdout",
     "output_type": "stream",
     "text": [
      "False\n",
      "False\n",
      "True\n"
     ]
    }
   ],
   "source": [
    "# task: aşağıdaki 3 kelime comfortable word mu değil m kod yazalım\n",
    "set_left = {'q', 'w', 'e', 'r', 't', 'a', 's', 'd', 'f', 'g', 'z', 'x', 'c', 'v', 'b'}\n",
    "set_right = {'y', 'u', 'i', 'o', 'p', 'h', 'j', 'k', 'l', 'n', 'm'}\n",
    "set_word1 = set('tester')\n",
    "set_word2 = set('polly')\n",
    "set_word3 = set('clarusway')\n",
    "print((set_word1 - set_left != set()) and (set_word1 - set_right != set()))\n",
    "print((set_word2 - set_left != set()) and (set_word2 - set_right != set()))\n",
    "print((set_word3 - set_left != set()) and (set_word3 - set_right != set()))\n"
   ]
  },
  {
   "cell_type": "code",
   "execution_count": 74,
   "metadata": {},
   "outputs": [
    {
     "name": "stdin",
     "output_type": "stream",
     "text": [
      "Enter your name :  Lisa Simpson\n",
      "Enter your participation score :  90\n",
      "Enter your homework score :  95\n",
      "Enter your classwork score :  95\n",
      "Enter your first_exam score :  100\n",
      "Enter your second_exam score :  100\n"
     ]
    },
    {
     "name": "stdout",
     "output_type": "stream",
     "text": [
      "Lisa Simpson's Math score is 97. You've an A in Math. Congratulations!\n"
     ]
    }
   ],
   "source": [
    "name = input(\"Enter your name : \")\n",
    "participation = int(input(\"Enter your participation score : \"))\n",
    "homework = int(input(\"Enter your homework score : \"))\n",
    "classwork = int(input(\"Enter your classwork score : \"))\n",
    "first_exam = int(input(\"Enter your first_exam score : \"))\n",
    "second_exam = int(input(\"Enter your second_exam score : \"))\n",
    "score = int(participation* 0.10 + homework*0.15 + classwork*0.20 + \n",
    "            first_exam*0.25 + second_exam*0.30)\n",
    "\n",
    "if 0<=score<70:\n",
    "    print(f\"{name}'s Math score is {score}. Unfortunately that is a failure in Math. Summer school is to be attended.\")\n",
    "elif 70<=score<80:\n",
    "    print(f\"{name}'s Math score is {score}. You have a C in Math. Keep it up!\")\n",
    "elif 80<=score<90:\n",
    "    print(f\"{name}'s Math score is {score}. You've a B in Math. Good job!\")\n",
    "else:\n",
    "    print(f\"{name}'s Math score is {score}. You've an A in Math. Congratulations!\")"
   ]
  },
  {
   "cell_type": "code",
   "execution_count": null,
   "metadata": {},
   "outputs": [],
   "source": [
    "name = input(\"Enter the name of the student: \")\n",
    "participation = float(input(\"Enter the score of participation (out of 100) : \"))\n",
    "homework = float(input(\"Enter the score of homework (out of 100) : \"))\n",
    "classwork = float(input(\"Enter the score of classwork (out of 100) : \"))\n",
    "first_exam = float(input(\"Enter the score of first_exam (out of 100) : \"))\n",
    "second_exam = float(input(\"Enter the score of second_exam (out of 100) : \"))\n",
    "score_math = participation * 0.10 + homework * 0.15 + classwork * 0.20 + first_exam * 0.25 + second_exam * 0.30\n",
    "print(f\"{name}'s math score is {round(score_math, 1)}.\" + ((score_math >= 70 and score_math < 80 and \\\n",
    "\" You've a C in Math. Keep it up!\") \\\n",
    "or (score_math >= 80 and score_math < 90 and \" You've a B in Math. Good job!\") \\\n",
    "or (score_math >= 90 and score_math <= 100 and \" You've an A in Math. Congratulations!\") \\\n",
    "or \" Unfortunatelly that is a failure in math. Summer school is to be attended.\"))"
   ]
  },
  {
   "cell_type": "code",
   "execution_count": 131,
   "metadata": {},
   "outputs": [],
   "source": [
    "# Yönetim kurulu 7 kişiden oluşan bir dernekte başkan Ahmet, başkan yardımcıları\n",
    "# ise Jim ve Julia'dır. Yönetim kurulu toplantısı yapılabilmesi için;\n",
    "# katılımcıların tamamının yönetim kurulu üyesi olması lazımdır. En az 4 yönetim kurulu üyesi katılmalıdır. Eğer başkan katıldıysa bir başkan yardımcısının katılımı yeterlidir.\n",
    "# Başkan katılmadıysa 2 başkan yardımcısı da hazır olmalıdır. Aşağıdaki listeleri kullanarak \"toplantı yeter sayısına ulaşılmıştır\"\n",
    "# ya da \"toplantı yeter sayısına ulaşılamamıştır\" output'unu print ediniz (çözümü lütfen conditional statements ile yapınız)."
   ]
  },
  {
   "cell_type": "code",
   "execution_count": 8,
   "metadata": {},
   "outputs": [
    {
     "name": "stdout",
     "output_type": "stream",
     "text": [
      "toplantı yeter sayısına ulaşılmıştır\n"
     ]
    }
   ],
   "source": [
    "executive_members = ['Ahmet', 'Veli', 'Jim', 'John', 'Kim', 'Julia', 'Nelson']\n",
    "participants = ['John', 'Julia', 'Nelson', 'Kim']\n",
    "\n",
    "if len(participants) >= 4 and ((participants[0] and participants[1] and participants[2] \n",
    "                                and participants[3]) in executive_members):\n",
    "    if (executive_members [0] in participants and (executive_members [2] \n",
    "                                                   or executive_members [5]) in participants):\n",
    "      print(\"toplantı yeter sayısına ulaşılmıştır\")\n",
    "    elif (executive_members [0] not in participants and \n",
    "          (executive_members[2] and executive_members[5]) in participants):\n",
    "      print(\"toplantı yeter sayısına ulaşılmıştır\")\n",
    "        \n",
    "else:\n",
    "    print(\"Toplantı yeter sayısına ulaşılamamıştır!\")"
   ]
  },
  {
   "cell_type": "code",
   "execution_count": 1,
   "metadata": {},
   "outputs": [
    {
     "name": "stdout",
     "output_type": "stream",
     "text": [
      "{'John': {'N': 3056, 'S': 8463, 'E': 8441, 'W': 2694}, 'Tom': {'N': 4832, 'S': 6786, 'E': 4737, 'W': 3612}, 'Anne': {'N': 5239, 'S': 4802, 'E': 5820, 'W': 1859}, 'Fiona': {'N': 3904, 'S': 3645, 'E': 8821, 'W': 2451}}\n"
     ]
    }
   ],
   "source": [
    "sales = {\n",
    "    'John' : {'N': 3056, 'S' : 8463, 'E': 8441, 'W': 2694},\n",
    "    'Tom' : {'N': 4832, 'S' : 6786, 'E': 4737, 'W': 3612},\n",
    "    'Anne' : {'N': 5239, 'S' : 4802, 'E': 5820, 'W': 1859},\n",
    "    'Fiona' : {'N': 3904, 'S' : 3645, 'E': 8821, 'W': 2451},\n",
    "}\n",
    "print(sales)"
   ]
  },
  {
   "cell_type": "code",
   "execution_count": 7,
   "metadata": {},
   "outputs": [
    {
     "name": "stdin",
     "output_type": "stream",
     "text": [
      "Enter a name to see their sales:  Anne\n",
      "Enter a region to see total sales of an employee:  E\n"
     ]
    },
    {
     "name": "stdout",
     "output_type": "stream",
     "text": [
      "5820\n"
     ]
    }
   ],
   "source": [
    "staff = input('Enter a name to see their sales: ')\n",
    "staff_sales = input('Enter a region to see total sales of an employee: ')\n",
    "print(sales[staff][staff_sales])"
   ]
  },
  {
   "cell_type": "code",
   "execution_count": 30,
   "metadata": {},
   "outputs": [
    {
     "name": "stdin",
     "output_type": "stream",
     "text": [
      "Enter your first name :  James\n",
      "Enter your last name :  Heisenberg\n",
      "Enter your student number :  20224563\n",
      "Enter your tel number :  0012345678\n",
      "Enter your first name :  Stephanie\n",
      "Enter your last name :  Baumfresser\n",
      "Enter your student number :  20223645\n",
      "Enter your tel number :  0018765432\n",
      "Enter your student number to see the personal details:  20223645\n"
     ]
    },
    {
     "name": "stdout",
     "output_type": "stream",
     "text": [
      "{'first_name': 'Stephanie', 'last_name': 'Baumfresser', 'student_no': 20223645, 'tel': 18765432}\n"
     ]
    }
   ],
   "source": [
    "first_name1 = input(\"Enter your first name : \")\n",
    "last_name1 = input(\"Enter your last name : \")\n",
    "student_no1 = int(input(\"Enter your student number : \"))\n",
    "tel_no1= int(input(\"Enter your tel number : \"))\n",
    "first_name2 = input(\"Enter your first name : \")\n",
    "last_name2 = input(\"Enter your last name : \")\n",
    "student_no2 = int(input(\"Enter your student number : \"))\n",
    "tel_no2= int(input(\"Enter your tel number : \"))\n",
    "\n",
    "students = {\n",
    "    'student1' : { 'first_name' : first_name1, 'last_name': last_name1, 'student_no' : student_no1, 'tel' : tel_no1},\n",
    "    'student2' : { 'first_name' : first_name2, 'last_name': last_name2, 'student_no' : student_no2, 'tel' : tel_no2},\n",
    "}\n",
    "\n",
    "query = int(input(\"Enter your student number to see the personal details: \"))\n",
    "\n",
    "if query == student_no1 :\n",
    "    print(students['student1'])\n",
    "elif query == student_no2 :\n",
    "    print(students['student2'])\n",
    "else :\n",
    "    print(\"Please be sure that the student number is a valid one!\")"
   ]
  },
  {
   "cell_type": "code",
   "execution_count": 69,
   "metadata": {},
   "outputs": [
    {
     "name": "stdin",
     "output_type": "stream",
     "text": [
      "Enter a sentence  to see if it is a pangram :  the quick brown fox jumps over a lazy dog\n"
     ]
    },
    {
     "name": "stdout",
     "output_type": "stream",
     "text": [
      "True\n",
      "True\n"
     ]
    }
   ],
   "source": [
    "user_sentence = set(\"the quick brown fox jumps over a lazy dog\")\n",
    "letters = set(\"abcdefghijklmnopqrstuwxvyz\")\n",
    "print(letters.issubset(user_sentence))\n",
    "if letters.issubset(user_sentence) :\n",
    "    print(True)\n",
    "else :\n",
    "    print(False)"
   ]
  },
  {
   "cell_type": "code",
   "execution_count": 22,
   "metadata": {},
   "outputs": [
    {
     "name": "stdout",
     "output_type": "stream",
     "text": [
      "A B C D "
     ]
    }
   ],
   "source": [
    "x = 'abcd'\n",
    "for i in range(len(x)):\n",
    "    print(x[i].upper(), end= \" \")"
   ]
  },
  {
   "cell_type": "code",
   "execution_count": 34,
   "metadata": {},
   "outputs": [
    {
     "name": "stdout",
     "output_type": "stream",
     "text": [
      "3102\n"
     ]
    }
   ],
   "source": [
    "num = 2013\n",
    "reversed_num = 0\n",
    "\n",
    "while num != 0:\n",
    "    digit = num % 10  # 3  1 0 2\n",
    "    reversed_num = reversed_num * 10 + digit  # 3 31 310  3102\n",
    "    num //= 10  # 201  20 2 0\n",
    "\n",
    "print(reversed_num)  # 3  31 310  3102"
   ]
  },
  {
   "cell_type": "code",
   "execution_count": 32,
   "metadata": {},
   "outputs": [
    {
     "name": "stdout",
     "output_type": "stream",
     "text": [
      "[1, 3, 6, 10]\n"
     ]
    }
   ],
   "source": [
    "a=[1,2,3,4]\n",
    "b=[sum(a[0:x+1]) for x in range(0,4)]\n",
    "print(b)"
   ]
  },
  {
   "cell_type": "code",
   "execution_count": 35,
   "metadata": {},
   "outputs": [
    {
     "data": {
      "text/plain": [
       "True"
      ]
     },
     "execution_count": 35,
     "metadata": {},
     "output_type": "execute_result"
    }
   ],
   "source": [
    "def foo(name, / , **kwds):\n",
    "    return 'name' in kwds\n",
    "\n",
    "foo(1, **{'name': 2})"
   ]
  },
  {
   "cell_type": "code",
   "execution_count": null,
   "metadata": {},
   "outputs": [],
   "source": []
  }
 ],
 "metadata": {
  "accelerator": "GPU",
  "colab": {
   "authorship_tag": "ABX9TyPABLJooQScL9k3+5bIeF4V",
   "collapsed_sections": [],
   "provenance": []
  },
  "kernelspec": {
   "display_name": "Python 3 (ipykernel)",
   "language": "python",
   "name": "python3"
  },
  "language_info": {
   "codemirror_mode": {
    "name": "ipython",
    "version": 3
   },
   "file_extension": ".py",
   "mimetype": "text/x-python",
   "name": "python",
   "nbconvert_exporter": "python",
   "pygments_lexer": "ipython3",
   "version": "3.9.12"
  }
 },
 "nbformat": 4,
 "nbformat_minor": 4
}
